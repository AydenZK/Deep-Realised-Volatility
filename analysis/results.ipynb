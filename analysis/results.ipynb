{
 "cells": [
  {
   "cell_type": "code",
   "execution_count": 2,
   "metadata": {},
   "outputs": [],
   "source": [
    "import os\n",
    "from pathlib import Path\n",
    "\n",
    "import pandas as pd"
   ]
  },
  {
   "cell_type": "code",
   "execution_count": 3,
   "metadata": {},
   "outputs": [],
   "source": [
    "RESULTS_DIR = Path(os.getcwd()).parent.joinpath(\"results\")"
   ]
  },
  {
   "cell_type": "code",
   "execution_count": 7,
   "metadata": {},
   "outputs": [
    {
     "data": {
      "text/html": [
       "<div>\n",
       "<style scoped>\n",
       "    .dataframe tbody tr th:only-of-type {\n",
       "        vertical-align: middle;\n",
       "    }\n",
       "\n",
       "    .dataframe tbody tr th {\n",
       "        vertical-align: top;\n",
       "    }\n",
       "\n",
       "    .dataframe thead th {\n",
       "        text-align: right;\n",
       "    }\n",
       "</style>\n",
       "<table border=\"1\" class=\"dataframe\">\n",
       "  <thead>\n",
       "    <tr style=\"text-align: right;\">\n",
       "      <th></th>\n",
       "      <th>hidden_layer_sizes</th>\n",
       "      <th>activation</th>\n",
       "      <th>learning_rate_init</th>\n",
       "      <th>learning_rate</th>\n",
       "      <th>train_rmspe_mean</th>\n",
       "      <th>valid_rmspe_mean</th>\n",
       "      <th>train_rmspe_std</th>\n",
       "      <th>valid_rmspe_std</th>\n",
       "    </tr>\n",
       "  </thead>\n",
       "  <tbody>\n",
       "    <tr>\n",
       "      <th>13</th>\n",
       "      <td>(64, 64, 64)</td>\n",
       "      <td>relu</td>\n",
       "      <td>0.00100</td>\n",
       "      <td>constant</td>\n",
       "      <td>0.296996</td>\n",
       "      <td>0.296777</td>\n",
       "      <td>0.018102</td>\n",
       "      <td>0.015938</td>\n",
       "    </tr>\n",
       "    <tr>\n",
       "      <th>12</th>\n",
       "      <td>(64, 128)</td>\n",
       "      <td>relu</td>\n",
       "      <td>0.00100</td>\n",
       "      <td>constant</td>\n",
       "      <td>0.299510</td>\n",
       "      <td>0.297950</td>\n",
       "      <td>0.012885</td>\n",
       "      <td>0.010497</td>\n",
       "    </tr>\n",
       "    <tr>\n",
       "      <th>14</th>\n",
       "      <td>(64, 64, 64)</td>\n",
       "      <td>relu</td>\n",
       "      <td>0.00100</td>\n",
       "      <td>constant</td>\n",
       "      <td>0.308161</td>\n",
       "      <td>0.305690</td>\n",
       "      <td>0.003492</td>\n",
       "      <td>0.006423</td>\n",
       "    </tr>\n",
       "    <tr>\n",
       "      <th>10</th>\n",
       "      <td>(64, 128)</td>\n",
       "      <td>relu</td>\n",
       "      <td>0.00100</td>\n",
       "      <td>adaptive</td>\n",
       "      <td>0.308692</td>\n",
       "      <td>0.309703</td>\n",
       "      <td>0.030884</td>\n",
       "      <td>0.032949</td>\n",
       "    </tr>\n",
       "    <tr>\n",
       "      <th>32</th>\n",
       "      <td>(64, 128, 128, 32)</td>\n",
       "      <td>tanh</td>\n",
       "      <td>0.00100</td>\n",
       "      <td>adaptive</td>\n",
       "      <td>0.318812</td>\n",
       "      <td>0.318617</td>\n",
       "      <td>0.012296</td>\n",
       "      <td>0.014529</td>\n",
       "    </tr>\n",
       "    <tr>\n",
       "      <th>31</th>\n",
       "      <td>(64, 128, 128)</td>\n",
       "      <td>tanh</td>\n",
       "      <td>0.00100</td>\n",
       "      <td>adaptive</td>\n",
       "      <td>0.319688</td>\n",
       "      <td>0.320512</td>\n",
       "      <td>0.009528</td>\n",
       "      <td>0.009017</td>\n",
       "    </tr>\n",
       "    <tr>\n",
       "      <th>6</th>\n",
       "      <td>(64, 128)</td>\n",
       "      <td>relu</td>\n",
       "      <td>0.00100</td>\n",
       "      <td>adaptive</td>\n",
       "      <td>0.322755</td>\n",
       "      <td>0.324558</td>\n",
       "      <td>0.017375</td>\n",
       "      <td>0.021575</td>\n",
       "    </tr>\n",
       "    <tr>\n",
       "      <th>21</th>\n",
       "      <td>(64, 128, 128)</td>\n",
       "      <td>relu</td>\n",
       "      <td>0.00100</td>\n",
       "      <td>constant</td>\n",
       "      <td>0.331030</td>\n",
       "      <td>0.328906</td>\n",
       "      <td>0.070713</td>\n",
       "      <td>0.067407</td>\n",
       "    </tr>\n",
       "    <tr>\n",
       "      <th>1</th>\n",
       "      <td>(64, 128)</td>\n",
       "      <td>tanh</td>\n",
       "      <td>0.00100</td>\n",
       "      <td>constant</td>\n",
       "      <td>0.333054</td>\n",
       "      <td>0.339615</td>\n",
       "      <td>0.054923</td>\n",
       "      <td>0.064318</td>\n",
       "    </tr>\n",
       "    <tr>\n",
       "      <th>26</th>\n",
       "      <td>(32, 64)</td>\n",
       "      <td>relu</td>\n",
       "      <td>0.00100</td>\n",
       "      <td>adaptive</td>\n",
       "      <td>0.350179</td>\n",
       "      <td>0.341421</td>\n",
       "      <td>0.039481</td>\n",
       "      <td>0.039117</td>\n",
       "    </tr>\n",
       "    <tr>\n",
       "      <th>37</th>\n",
       "      <td>(32, 64)</td>\n",
       "      <td>relu</td>\n",
       "      <td>0.00100</td>\n",
       "      <td>constant</td>\n",
       "      <td>0.342655</td>\n",
       "      <td>0.341615</td>\n",
       "      <td>0.038367</td>\n",
       "      <td>0.039074</td>\n",
       "    </tr>\n",
       "    <tr>\n",
       "      <th>3</th>\n",
       "      <td>(64, 128, 128, 32)</td>\n",
       "      <td>relu</td>\n",
       "      <td>0.00100</td>\n",
       "      <td>constant</td>\n",
       "      <td>0.345312</td>\n",
       "      <td>0.343583</td>\n",
       "      <td>0.036025</td>\n",
       "      <td>0.035297</td>\n",
       "    </tr>\n",
       "    <tr>\n",
       "      <th>47</th>\n",
       "      <td>(64, 64, 64)</td>\n",
       "      <td>tanh</td>\n",
       "      <td>0.00100</td>\n",
       "      <td>constant</td>\n",
       "      <td>0.366122</td>\n",
       "      <td>0.365087</td>\n",
       "      <td>0.016929</td>\n",
       "      <td>0.016738</td>\n",
       "    </tr>\n",
       "    <tr>\n",
       "      <th>2</th>\n",
       "      <td>(64, 64, 64)</td>\n",
       "      <td>relu</td>\n",
       "      <td>0.00100</td>\n",
       "      <td>constant</td>\n",
       "      <td>0.377648</td>\n",
       "      <td>0.378247</td>\n",
       "      <td>0.062464</td>\n",
       "      <td>0.061144</td>\n",
       "    </tr>\n",
       "    <tr>\n",
       "      <th>36</th>\n",
       "      <td>(64, 128, 128, 32)</td>\n",
       "      <td>tanh</td>\n",
       "      <td>0.00100</td>\n",
       "      <td>constant</td>\n",
       "      <td>0.416816</td>\n",
       "      <td>0.415790</td>\n",
       "      <td>0.064350</td>\n",
       "      <td>0.061543</td>\n",
       "    </tr>\n",
       "    <tr>\n",
       "      <th>8</th>\n",
       "      <td>(64, 128)</td>\n",
       "      <td>relu</td>\n",
       "      <td>0.00100</td>\n",
       "      <td>constant</td>\n",
       "      <td>0.412843</td>\n",
       "      <td>0.416943</td>\n",
       "      <td>0.086901</td>\n",
       "      <td>0.087154</td>\n",
       "    </tr>\n",
       "    <tr>\n",
       "      <th>30</th>\n",
       "      <td>(64, 128)</td>\n",
       "      <td>relu</td>\n",
       "      <td>0.00100</td>\n",
       "      <td>adaptive</td>\n",
       "      <td>0.429763</td>\n",
       "      <td>0.428118</td>\n",
       "      <td>0.122750</td>\n",
       "      <td>0.121141</td>\n",
       "    </tr>\n",
       "    <tr>\n",
       "      <th>18</th>\n",
       "      <td>(64, 128, 128)</td>\n",
       "      <td>tanh</td>\n",
       "      <td>0.00100</td>\n",
       "      <td>constant</td>\n",
       "      <td>0.467367</td>\n",
       "      <td>0.467967</td>\n",
       "      <td>0.197127</td>\n",
       "      <td>0.200512</td>\n",
       "    </tr>\n",
       "    <tr>\n",
       "      <th>35</th>\n",
       "      <td>(64, 128, 128)</td>\n",
       "      <td>tanh</td>\n",
       "      <td>0.00100</td>\n",
       "      <td>adaptive</td>\n",
       "      <td>0.513297</td>\n",
       "      <td>0.512260</td>\n",
       "      <td>0.110347</td>\n",
       "      <td>0.109320</td>\n",
       "    </tr>\n",
       "    <tr>\n",
       "      <th>19</th>\n",
       "      <td>(32, 64)</td>\n",
       "      <td>relu</td>\n",
       "      <td>0.00100</td>\n",
       "      <td>constant</td>\n",
       "      <td>0.547695</td>\n",
       "      <td>0.550302</td>\n",
       "      <td>0.136339</td>\n",
       "      <td>0.137086</td>\n",
       "    </tr>\n",
       "    <tr>\n",
       "      <th>45</th>\n",
       "      <td>(64, 128)</td>\n",
       "      <td>tanh</td>\n",
       "      <td>0.00100</td>\n",
       "      <td>constant</td>\n",
       "      <td>0.619107</td>\n",
       "      <td>0.617011</td>\n",
       "      <td>0.313414</td>\n",
       "      <td>0.314732</td>\n",
       "    </tr>\n",
       "    <tr>\n",
       "      <th>22</th>\n",
       "      <td>(64, 128, 128)</td>\n",
       "      <td>tanh</td>\n",
       "      <td>0.00010</td>\n",
       "      <td>adaptive</td>\n",
       "      <td>0.737966</td>\n",
       "      <td>0.744119</td>\n",
       "      <td>0.183099</td>\n",
       "      <td>0.151181</td>\n",
       "    </tr>\n",
       "    <tr>\n",
       "      <th>23</th>\n",
       "      <td>(64, 128, 128)</td>\n",
       "      <td>tanh</td>\n",
       "      <td>0.00010</td>\n",
       "      <td>adaptive</td>\n",
       "      <td>0.758648</td>\n",
       "      <td>0.768094</td>\n",
       "      <td>0.069055</td>\n",
       "      <td>0.060180</td>\n",
       "    </tr>\n",
       "    <tr>\n",
       "      <th>24</th>\n",
       "      <td>(64, 128)</td>\n",
       "      <td>tanh</td>\n",
       "      <td>0.00010</td>\n",
       "      <td>constant</td>\n",
       "      <td>0.828152</td>\n",
       "      <td>0.820330</td>\n",
       "      <td>0.201739</td>\n",
       "      <td>0.183191</td>\n",
       "    </tr>\n",
       "    <tr>\n",
       "      <th>16</th>\n",
       "      <td>(32, 64)</td>\n",
       "      <td>tanh</td>\n",
       "      <td>0.00010</td>\n",
       "      <td>adaptive</td>\n",
       "      <td>0.829695</td>\n",
       "      <td>0.850003</td>\n",
       "      <td>0.065513</td>\n",
       "      <td>0.035465</td>\n",
       "    </tr>\n",
       "    <tr>\n",
       "      <th>46</th>\n",
       "      <td>(32, 64)</td>\n",
       "      <td>tanh</td>\n",
       "      <td>0.00010</td>\n",
       "      <td>adaptive</td>\n",
       "      <td>0.855891</td>\n",
       "      <td>0.871039</td>\n",
       "      <td>0.080272</td>\n",
       "      <td>0.088583</td>\n",
       "    </tr>\n",
       "    <tr>\n",
       "      <th>25</th>\n",
       "      <td>(32, 64)</td>\n",
       "      <td>relu</td>\n",
       "      <td>0.00100</td>\n",
       "      <td>constant</td>\n",
       "      <td>0.869742</td>\n",
       "      <td>0.887786</td>\n",
       "      <td>0.323708</td>\n",
       "      <td>0.364264</td>\n",
       "    </tr>\n",
       "    <tr>\n",
       "      <th>33</th>\n",
       "      <td>(64, 128, 128, 32)</td>\n",
       "      <td>relu</td>\n",
       "      <td>0.00010</td>\n",
       "      <td>constant</td>\n",
       "      <td>0.998302</td>\n",
       "      <td>1.037521</td>\n",
       "      <td>0.276032</td>\n",
       "      <td>0.230264</td>\n",
       "    </tr>\n",
       "    <tr>\n",
       "      <th>44</th>\n",
       "      <td>(64, 128, 128)</td>\n",
       "      <td>relu</td>\n",
       "      <td>0.00010</td>\n",
       "      <td>constant</td>\n",
       "      <td>0.950651</td>\n",
       "      <td>1.094334</td>\n",
       "      <td>0.055697</td>\n",
       "      <td>0.199645</td>\n",
       "    </tr>\n",
       "    <tr>\n",
       "      <th>40</th>\n",
       "      <td>(64, 128, 128)</td>\n",
       "      <td>tanh</td>\n",
       "      <td>0.00001</td>\n",
       "      <td>constant</td>\n",
       "      <td>1.098760</td>\n",
       "      <td>1.101785</td>\n",
       "      <td>0.021207</td>\n",
       "      <td>0.024802</td>\n",
       "    </tr>\n",
       "    <tr>\n",
       "      <th>20</th>\n",
       "      <td>(64, 128, 128)</td>\n",
       "      <td>tanh</td>\n",
       "      <td>0.00001</td>\n",
       "      <td>adaptive</td>\n",
       "      <td>1.207320</td>\n",
       "      <td>1.146065</td>\n",
       "      <td>0.103406</td>\n",
       "      <td>0.041830</td>\n",
       "    </tr>\n",
       "    <tr>\n",
       "      <th>0</th>\n",
       "      <td>(64, 128, 128, 32)</td>\n",
       "      <td>tanh</td>\n",
       "      <td>0.00001</td>\n",
       "      <td>adaptive</td>\n",
       "      <td>1.206278</td>\n",
       "      <td>1.191836</td>\n",
       "      <td>0.145159</td>\n",
       "      <td>0.112028</td>\n",
       "    </tr>\n",
       "    <tr>\n",
       "      <th>27</th>\n",
       "      <td>(64, 128, 128)</td>\n",
       "      <td>tanh</td>\n",
       "      <td>0.00001</td>\n",
       "      <td>adaptive</td>\n",
       "      <td>1.251497</td>\n",
       "      <td>1.278079</td>\n",
       "      <td>0.165664</td>\n",
       "      <td>0.226352</td>\n",
       "    </tr>\n",
       "    <tr>\n",
       "      <th>29</th>\n",
       "      <td>(64, 64, 64)</td>\n",
       "      <td>relu</td>\n",
       "      <td>0.00010</td>\n",
       "      <td>constant</td>\n",
       "      <td>1.411839</td>\n",
       "      <td>1.469237</td>\n",
       "      <td>0.128091</td>\n",
       "      <td>0.184483</td>\n",
       "    </tr>\n",
       "    <tr>\n",
       "      <th>7</th>\n",
       "      <td>(64, 128, 128)</td>\n",
       "      <td>tanh</td>\n",
       "      <td>0.00001</td>\n",
       "      <td>adaptive</td>\n",
       "      <td>1.388275</td>\n",
       "      <td>1.471553</td>\n",
       "      <td>0.145759</td>\n",
       "      <td>0.039463</td>\n",
       "    </tr>\n",
       "    <tr>\n",
       "      <th>38</th>\n",
       "      <td>(32, 64)</td>\n",
       "      <td>relu</td>\n",
       "      <td>0.00010</td>\n",
       "      <td>adaptive</td>\n",
       "      <td>1.584153</td>\n",
       "      <td>1.555933</td>\n",
       "      <td>0.061152</td>\n",
       "      <td>0.131101</td>\n",
       "    </tr>\n",
       "    <tr>\n",
       "      <th>41</th>\n",
       "      <td>(64, 64, 64)</td>\n",
       "      <td>tanh</td>\n",
       "      <td>0.00001</td>\n",
       "      <td>adaptive</td>\n",
       "      <td>1.600448</td>\n",
       "      <td>1.620002</td>\n",
       "      <td>0.149453</td>\n",
       "      <td>0.141444</td>\n",
       "    </tr>\n",
       "    <tr>\n",
       "      <th>15</th>\n",
       "      <td>(32, 64)</td>\n",
       "      <td>relu</td>\n",
       "      <td>0.00010</td>\n",
       "      <td>constant</td>\n",
       "      <td>1.761727</td>\n",
       "      <td>1.791179</td>\n",
       "      <td>0.147605</td>\n",
       "      <td>0.138453</td>\n",
       "    </tr>\n",
       "    <tr>\n",
       "      <th>42</th>\n",
       "      <td>(64, 128)</td>\n",
       "      <td>tanh</td>\n",
       "      <td>0.00001</td>\n",
       "      <td>adaptive</td>\n",
       "      <td>1.795667</td>\n",
       "      <td>1.872854</td>\n",
       "      <td>0.077218</td>\n",
       "      <td>0.197476</td>\n",
       "    </tr>\n",
       "    <tr>\n",
       "      <th>9</th>\n",
       "      <td>(64, 128)</td>\n",
       "      <td>tanh</td>\n",
       "      <td>0.00001</td>\n",
       "      <td>constant</td>\n",
       "      <td>1.867775</td>\n",
       "      <td>1.895363</td>\n",
       "      <td>0.222907</td>\n",
       "      <td>0.197023</td>\n",
       "    </tr>\n",
       "    <tr>\n",
       "      <th>5</th>\n",
       "      <td>(64, 64, 64)</td>\n",
       "      <td>relu</td>\n",
       "      <td>0.00010</td>\n",
       "      <td>constant</td>\n",
       "      <td>2.261245</td>\n",
       "      <td>2.128747</td>\n",
       "      <td>1.033061</td>\n",
       "      <td>0.943898</td>\n",
       "    </tr>\n",
       "    <tr>\n",
       "      <th>11</th>\n",
       "      <td>(64, 128, 128, 32)</td>\n",
       "      <td>relu</td>\n",
       "      <td>0.00001</td>\n",
       "      <td>constant</td>\n",
       "      <td>2.179696</td>\n",
       "      <td>2.201565</td>\n",
       "      <td>0.528414</td>\n",
       "      <td>0.558511</td>\n",
       "    </tr>\n",
       "    <tr>\n",
       "      <th>28</th>\n",
       "      <td>(32, 64)</td>\n",
       "      <td>relu</td>\n",
       "      <td>0.00010</td>\n",
       "      <td>adaptive</td>\n",
       "      <td>2.190762</td>\n",
       "      <td>2.268199</td>\n",
       "      <td>0.366434</td>\n",
       "      <td>0.480200</td>\n",
       "    </tr>\n",
       "    <tr>\n",
       "      <th>34</th>\n",
       "      <td>(64, 128, 128)</td>\n",
       "      <td>relu</td>\n",
       "      <td>0.00001</td>\n",
       "      <td>adaptive</td>\n",
       "      <td>2.465412</td>\n",
       "      <td>2.505239</td>\n",
       "      <td>0.062568</td>\n",
       "      <td>0.102956</td>\n",
       "    </tr>\n",
       "    <tr>\n",
       "      <th>17</th>\n",
       "      <td>(64, 128)</td>\n",
       "      <td>relu</td>\n",
       "      <td>0.00001</td>\n",
       "      <td>constant</td>\n",
       "      <td>3.656981</td>\n",
       "      <td>3.719300</td>\n",
       "      <td>0.405432</td>\n",
       "      <td>0.459673</td>\n",
       "    </tr>\n",
       "    <tr>\n",
       "      <th>43</th>\n",
       "      <td>(32, 64)</td>\n",
       "      <td>relu</td>\n",
       "      <td>0.00001</td>\n",
       "      <td>adaptive</td>\n",
       "      <td>4.341449</td>\n",
       "      <td>4.353630</td>\n",
       "      <td>0.246403</td>\n",
       "      <td>0.293342</td>\n",
       "    </tr>\n",
       "    <tr>\n",
       "      <th>4</th>\n",
       "      <td>(32, 64)</td>\n",
       "      <td>relu</td>\n",
       "      <td>0.00001</td>\n",
       "      <td>adaptive</td>\n",
       "      <td>5.043169</td>\n",
       "      <td>4.998427</td>\n",
       "      <td>0.165811</td>\n",
       "      <td>0.202845</td>\n",
       "    </tr>\n",
       "    <tr>\n",
       "      <th>39</th>\n",
       "      <td>(32, 64)</td>\n",
       "      <td>relu</td>\n",
       "      <td>0.00001</td>\n",
       "      <td>constant</td>\n",
       "      <td>4.735352</td>\n",
       "      <td>5.044781</td>\n",
       "      <td>0.534516</td>\n",
       "      <td>0.221042</td>\n",
       "    </tr>\n",
       "  </tbody>\n",
       "</table>\n",
       "</div>"
      ],
      "text/plain": [
       "    hidden_layer_sizes activation  learning_rate_init learning_rate  \\\n",
       "13        (64, 64, 64)       relu             0.00100      constant   \n",
       "12           (64, 128)       relu             0.00100      constant   \n",
       "14        (64, 64, 64)       relu             0.00100      constant   \n",
       "10           (64, 128)       relu             0.00100      adaptive   \n",
       "32  (64, 128, 128, 32)       tanh             0.00100      adaptive   \n",
       "31      (64, 128, 128)       tanh             0.00100      adaptive   \n",
       "6            (64, 128)       relu             0.00100      adaptive   \n",
       "21      (64, 128, 128)       relu             0.00100      constant   \n",
       "1            (64, 128)       tanh             0.00100      constant   \n",
       "26            (32, 64)       relu             0.00100      adaptive   \n",
       "37            (32, 64)       relu             0.00100      constant   \n",
       "3   (64, 128, 128, 32)       relu             0.00100      constant   \n",
       "47        (64, 64, 64)       tanh             0.00100      constant   \n",
       "2         (64, 64, 64)       relu             0.00100      constant   \n",
       "36  (64, 128, 128, 32)       tanh             0.00100      constant   \n",
       "8            (64, 128)       relu             0.00100      constant   \n",
       "30           (64, 128)       relu             0.00100      adaptive   \n",
       "18      (64, 128, 128)       tanh             0.00100      constant   \n",
       "35      (64, 128, 128)       tanh             0.00100      adaptive   \n",
       "19            (32, 64)       relu             0.00100      constant   \n",
       "45           (64, 128)       tanh             0.00100      constant   \n",
       "22      (64, 128, 128)       tanh             0.00010      adaptive   \n",
       "23      (64, 128, 128)       tanh             0.00010      adaptive   \n",
       "24           (64, 128)       tanh             0.00010      constant   \n",
       "16            (32, 64)       tanh             0.00010      adaptive   \n",
       "46            (32, 64)       tanh             0.00010      adaptive   \n",
       "25            (32, 64)       relu             0.00100      constant   \n",
       "33  (64, 128, 128, 32)       relu             0.00010      constant   \n",
       "44      (64, 128, 128)       relu             0.00010      constant   \n",
       "40      (64, 128, 128)       tanh             0.00001      constant   \n",
       "20      (64, 128, 128)       tanh             0.00001      adaptive   \n",
       "0   (64, 128, 128, 32)       tanh             0.00001      adaptive   \n",
       "27      (64, 128, 128)       tanh             0.00001      adaptive   \n",
       "29        (64, 64, 64)       relu             0.00010      constant   \n",
       "7       (64, 128, 128)       tanh             0.00001      adaptive   \n",
       "38            (32, 64)       relu             0.00010      adaptive   \n",
       "41        (64, 64, 64)       tanh             0.00001      adaptive   \n",
       "15            (32, 64)       relu             0.00010      constant   \n",
       "42           (64, 128)       tanh             0.00001      adaptive   \n",
       "9            (64, 128)       tanh             0.00001      constant   \n",
       "5         (64, 64, 64)       relu             0.00010      constant   \n",
       "11  (64, 128, 128, 32)       relu             0.00001      constant   \n",
       "28            (32, 64)       relu             0.00010      adaptive   \n",
       "34      (64, 128, 128)       relu             0.00001      adaptive   \n",
       "17           (64, 128)       relu             0.00001      constant   \n",
       "43            (32, 64)       relu             0.00001      adaptive   \n",
       "4             (32, 64)       relu             0.00001      adaptive   \n",
       "39            (32, 64)       relu             0.00001      constant   \n",
       "\n",
       "    train_rmspe_mean  valid_rmspe_mean  train_rmspe_std  valid_rmspe_std  \n",
       "13          0.296996          0.296777         0.018102         0.015938  \n",
       "12          0.299510          0.297950         0.012885         0.010497  \n",
       "14          0.308161          0.305690         0.003492         0.006423  \n",
       "10          0.308692          0.309703         0.030884         0.032949  \n",
       "32          0.318812          0.318617         0.012296         0.014529  \n",
       "31          0.319688          0.320512         0.009528         0.009017  \n",
       "6           0.322755          0.324558         0.017375         0.021575  \n",
       "21          0.331030          0.328906         0.070713         0.067407  \n",
       "1           0.333054          0.339615         0.054923         0.064318  \n",
       "26          0.350179          0.341421         0.039481         0.039117  \n",
       "37          0.342655          0.341615         0.038367         0.039074  \n",
       "3           0.345312          0.343583         0.036025         0.035297  \n",
       "47          0.366122          0.365087         0.016929         0.016738  \n",
       "2           0.377648          0.378247         0.062464         0.061144  \n",
       "36          0.416816          0.415790         0.064350         0.061543  \n",
       "8           0.412843          0.416943         0.086901         0.087154  \n",
       "30          0.429763          0.428118         0.122750         0.121141  \n",
       "18          0.467367          0.467967         0.197127         0.200512  \n",
       "35          0.513297          0.512260         0.110347         0.109320  \n",
       "19          0.547695          0.550302         0.136339         0.137086  \n",
       "45          0.619107          0.617011         0.313414         0.314732  \n",
       "22          0.737966          0.744119         0.183099         0.151181  \n",
       "23          0.758648          0.768094         0.069055         0.060180  \n",
       "24          0.828152          0.820330         0.201739         0.183191  \n",
       "16          0.829695          0.850003         0.065513         0.035465  \n",
       "46          0.855891          0.871039         0.080272         0.088583  \n",
       "25          0.869742          0.887786         0.323708         0.364264  \n",
       "33          0.998302          1.037521         0.276032         0.230264  \n",
       "44          0.950651          1.094334         0.055697         0.199645  \n",
       "40          1.098760          1.101785         0.021207         0.024802  \n",
       "20          1.207320          1.146065         0.103406         0.041830  \n",
       "0           1.206278          1.191836         0.145159         0.112028  \n",
       "27          1.251497          1.278079         0.165664         0.226352  \n",
       "29          1.411839          1.469237         0.128091         0.184483  \n",
       "7           1.388275          1.471553         0.145759         0.039463  \n",
       "38          1.584153          1.555933         0.061152         0.131101  \n",
       "41          1.600448          1.620002         0.149453         0.141444  \n",
       "15          1.761727          1.791179         0.147605         0.138453  \n",
       "42          1.795667          1.872854         0.077218         0.197476  \n",
       "9           1.867775          1.895363         0.222907         0.197023  \n",
       "5           2.261245          2.128747         1.033061         0.943898  \n",
       "11          2.179696          2.201565         0.528414         0.558511  \n",
       "28          2.190762          2.268199         0.366434         0.480200  \n",
       "34          2.465412          2.505239         0.062568         0.102956  \n",
       "17          3.656981          3.719300         0.405432         0.459673  \n",
       "43          4.341449          4.353630         0.246403         0.293342  \n",
       "4           5.043169          4.998427         0.165811         0.202845  \n",
       "39          4.735352          5.044781         0.534516         0.221042  "
      ]
     },
     "execution_count": 7,
     "metadata": {},
     "output_type": "execute_result"
    }
   ],
   "source": [
    "df_mlp_16 = pd.read_csv(RESULTS_DIR.joinpath(\"mlp_48.csv\"), index_col=0)\n",
    "df_mlp_16.sort_values(\"valid_rmspe_mean\")"
   ]
  },
  {
   "cell_type": "code",
   "execution_count": 10,
   "metadata": {},
   "outputs": [
    {
     "ename": "ValueError",
     "evalue": "invalid literal for int() with base 10: '(64, 128, 128, 32)'",
     "output_type": "error",
     "traceback": [
      "\u001b[1;31m---------------------------------------------------------------------------\u001b[0m",
      "\u001b[1;31mValueError\u001b[0m                                Traceback (most recent call last)",
      "Cell \u001b[1;32mIn[10], line 1\u001b[0m\n\u001b[1;32m----> 1\u001b[0m df_mlp_16[\u001b[38;5;124m'\u001b[39m\u001b[38;5;124mhidden_layer_sizes\u001b[39m\u001b[38;5;124m'\u001b[39m]\u001b[38;5;241m.\u001b[39mastype(\u001b[38;5;28mint\u001b[39m)\n",
      "File \u001b[1;32mc:\\Users\\Ayden\\miniconda3\\envs\\ml\\Lib\\site-packages\\pandas\\core\\generic.py:6643\u001b[0m, in \u001b[0;36mNDFrame.astype\u001b[1;34m(self, dtype, copy, errors)\u001b[0m\n\u001b[0;32m   6637\u001b[0m     results \u001b[38;5;241m=\u001b[39m [\n\u001b[0;32m   6638\u001b[0m         ser\u001b[38;5;241m.\u001b[39mastype(dtype, copy\u001b[38;5;241m=\u001b[39mcopy, errors\u001b[38;5;241m=\u001b[39merrors) \u001b[38;5;28;01mfor\u001b[39;00m _, ser \u001b[38;5;129;01min\u001b[39;00m \u001b[38;5;28mself\u001b[39m\u001b[38;5;241m.\u001b[39mitems()\n\u001b[0;32m   6639\u001b[0m     ]\n\u001b[0;32m   6641\u001b[0m \u001b[38;5;28;01melse\u001b[39;00m:\n\u001b[0;32m   6642\u001b[0m     \u001b[38;5;66;03m# else, only a single dtype is given\u001b[39;00m\n\u001b[1;32m-> 6643\u001b[0m     new_data \u001b[38;5;241m=\u001b[39m \u001b[38;5;28mself\u001b[39m\u001b[38;5;241m.\u001b[39m_mgr\u001b[38;5;241m.\u001b[39mastype(dtype\u001b[38;5;241m=\u001b[39mdtype, copy\u001b[38;5;241m=\u001b[39mcopy, errors\u001b[38;5;241m=\u001b[39merrors)\n\u001b[0;32m   6644\u001b[0m     res \u001b[38;5;241m=\u001b[39m \u001b[38;5;28mself\u001b[39m\u001b[38;5;241m.\u001b[39m_constructor_from_mgr(new_data, axes\u001b[38;5;241m=\u001b[39mnew_data\u001b[38;5;241m.\u001b[39maxes)\n\u001b[0;32m   6645\u001b[0m     \u001b[38;5;28;01mreturn\u001b[39;00m res\u001b[38;5;241m.\u001b[39m__finalize__(\u001b[38;5;28mself\u001b[39m, method\u001b[38;5;241m=\u001b[39m\u001b[38;5;124m\"\u001b[39m\u001b[38;5;124mastype\u001b[39m\u001b[38;5;124m\"\u001b[39m)\n",
      "File \u001b[1;32mc:\\Users\\Ayden\\miniconda3\\envs\\ml\\Lib\\site-packages\\pandas\\core\\internals\\managers.py:430\u001b[0m, in \u001b[0;36mBaseBlockManager.astype\u001b[1;34m(self, dtype, copy, errors)\u001b[0m\n\u001b[0;32m    427\u001b[0m \u001b[38;5;28;01melif\u001b[39;00m using_copy_on_write():\n\u001b[0;32m    428\u001b[0m     copy \u001b[38;5;241m=\u001b[39m \u001b[38;5;28;01mFalse\u001b[39;00m\n\u001b[1;32m--> 430\u001b[0m \u001b[38;5;28;01mreturn\u001b[39;00m \u001b[38;5;28mself\u001b[39m\u001b[38;5;241m.\u001b[39mapply(\n\u001b[0;32m    431\u001b[0m     \u001b[38;5;124m\"\u001b[39m\u001b[38;5;124mastype\u001b[39m\u001b[38;5;124m\"\u001b[39m,\n\u001b[0;32m    432\u001b[0m     dtype\u001b[38;5;241m=\u001b[39mdtype,\n\u001b[0;32m    433\u001b[0m     copy\u001b[38;5;241m=\u001b[39mcopy,\n\u001b[0;32m    434\u001b[0m     errors\u001b[38;5;241m=\u001b[39merrors,\n\u001b[0;32m    435\u001b[0m     using_cow\u001b[38;5;241m=\u001b[39musing_copy_on_write(),\n\u001b[0;32m    436\u001b[0m )\n",
      "File \u001b[1;32mc:\\Users\\Ayden\\miniconda3\\envs\\ml\\Lib\\site-packages\\pandas\\core\\internals\\managers.py:363\u001b[0m, in \u001b[0;36mBaseBlockManager.apply\u001b[1;34m(self, f, align_keys, **kwargs)\u001b[0m\n\u001b[0;32m    361\u001b[0m         applied \u001b[38;5;241m=\u001b[39m b\u001b[38;5;241m.\u001b[39mapply(f, \u001b[38;5;241m*\u001b[39m\u001b[38;5;241m*\u001b[39mkwargs)\n\u001b[0;32m    362\u001b[0m     \u001b[38;5;28;01melse\u001b[39;00m:\n\u001b[1;32m--> 363\u001b[0m         applied \u001b[38;5;241m=\u001b[39m \u001b[38;5;28mgetattr\u001b[39m(b, f)(\u001b[38;5;241m*\u001b[39m\u001b[38;5;241m*\u001b[39mkwargs)\n\u001b[0;32m    364\u001b[0m     result_blocks \u001b[38;5;241m=\u001b[39m extend_blocks(applied, result_blocks)\n\u001b[0;32m    366\u001b[0m out \u001b[38;5;241m=\u001b[39m \u001b[38;5;28mtype\u001b[39m(\u001b[38;5;28mself\u001b[39m)\u001b[38;5;241m.\u001b[39mfrom_blocks(result_blocks, \u001b[38;5;28mself\u001b[39m\u001b[38;5;241m.\u001b[39maxes)\n",
      "File \u001b[1;32mc:\\Users\\Ayden\\miniconda3\\envs\\ml\\Lib\\site-packages\\pandas\\core\\internals\\blocks.py:758\u001b[0m, in \u001b[0;36mBlock.astype\u001b[1;34m(self, dtype, copy, errors, using_cow, squeeze)\u001b[0m\n\u001b[0;32m    755\u001b[0m         \u001b[38;5;28;01mraise\u001b[39;00m \u001b[38;5;167;01mValueError\u001b[39;00m(\u001b[38;5;124m\"\u001b[39m\u001b[38;5;124mCan not squeeze with more than one column.\u001b[39m\u001b[38;5;124m\"\u001b[39m)\n\u001b[0;32m    756\u001b[0m     values \u001b[38;5;241m=\u001b[39m values[\u001b[38;5;241m0\u001b[39m, :]  \u001b[38;5;66;03m# type: ignore[call-overload]\u001b[39;00m\n\u001b[1;32m--> 758\u001b[0m new_values \u001b[38;5;241m=\u001b[39m astype_array_safe(values, dtype, copy\u001b[38;5;241m=\u001b[39mcopy, errors\u001b[38;5;241m=\u001b[39merrors)\n\u001b[0;32m    760\u001b[0m new_values \u001b[38;5;241m=\u001b[39m maybe_coerce_values(new_values)\n\u001b[0;32m    762\u001b[0m refs \u001b[38;5;241m=\u001b[39m \u001b[38;5;28;01mNone\u001b[39;00m\n",
      "File \u001b[1;32mc:\\Users\\Ayden\\miniconda3\\envs\\ml\\Lib\\site-packages\\pandas\\core\\dtypes\\astype.py:237\u001b[0m, in \u001b[0;36mastype_array_safe\u001b[1;34m(values, dtype, copy, errors)\u001b[0m\n\u001b[0;32m    234\u001b[0m     dtype \u001b[38;5;241m=\u001b[39m dtype\u001b[38;5;241m.\u001b[39mnumpy_dtype\n\u001b[0;32m    236\u001b[0m \u001b[38;5;28;01mtry\u001b[39;00m:\n\u001b[1;32m--> 237\u001b[0m     new_values \u001b[38;5;241m=\u001b[39m astype_array(values, dtype, copy\u001b[38;5;241m=\u001b[39mcopy)\n\u001b[0;32m    238\u001b[0m \u001b[38;5;28;01mexcept\u001b[39;00m (\u001b[38;5;167;01mValueError\u001b[39;00m, \u001b[38;5;167;01mTypeError\u001b[39;00m):\n\u001b[0;32m    239\u001b[0m     \u001b[38;5;66;03m# e.g. _astype_nansafe can fail on object-dtype of strings\u001b[39;00m\n\u001b[0;32m    240\u001b[0m     \u001b[38;5;66;03m#  trying to convert to float\u001b[39;00m\n\u001b[0;32m    241\u001b[0m     \u001b[38;5;28;01mif\u001b[39;00m errors \u001b[38;5;241m==\u001b[39m \u001b[38;5;124m\"\u001b[39m\u001b[38;5;124mignore\u001b[39m\u001b[38;5;124m\"\u001b[39m:\n",
      "File \u001b[1;32mc:\\Users\\Ayden\\miniconda3\\envs\\ml\\Lib\\site-packages\\pandas\\core\\dtypes\\astype.py:182\u001b[0m, in \u001b[0;36mastype_array\u001b[1;34m(values, dtype, copy)\u001b[0m\n\u001b[0;32m    179\u001b[0m     values \u001b[38;5;241m=\u001b[39m values\u001b[38;5;241m.\u001b[39mastype(dtype, copy\u001b[38;5;241m=\u001b[39mcopy)\n\u001b[0;32m    181\u001b[0m \u001b[38;5;28;01melse\u001b[39;00m:\n\u001b[1;32m--> 182\u001b[0m     values \u001b[38;5;241m=\u001b[39m _astype_nansafe(values, dtype, copy\u001b[38;5;241m=\u001b[39mcopy)\n\u001b[0;32m    184\u001b[0m \u001b[38;5;66;03m# in pandas we don't store numpy str dtypes, so convert to object\u001b[39;00m\n\u001b[0;32m    185\u001b[0m \u001b[38;5;28;01mif\u001b[39;00m \u001b[38;5;28misinstance\u001b[39m(dtype, np\u001b[38;5;241m.\u001b[39mdtype) \u001b[38;5;129;01mand\u001b[39;00m \u001b[38;5;28missubclass\u001b[39m(values\u001b[38;5;241m.\u001b[39mdtype\u001b[38;5;241m.\u001b[39mtype, \u001b[38;5;28mstr\u001b[39m):\n",
      "File \u001b[1;32mc:\\Users\\Ayden\\miniconda3\\envs\\ml\\Lib\\site-packages\\pandas\\core\\dtypes\\astype.py:133\u001b[0m, in \u001b[0;36m_astype_nansafe\u001b[1;34m(arr, dtype, copy, skipna)\u001b[0m\n\u001b[0;32m    129\u001b[0m     \u001b[38;5;28;01mraise\u001b[39;00m \u001b[38;5;167;01mValueError\u001b[39;00m(msg)\n\u001b[0;32m    131\u001b[0m \u001b[38;5;28;01mif\u001b[39;00m copy \u001b[38;5;129;01mor\u001b[39;00m arr\u001b[38;5;241m.\u001b[39mdtype \u001b[38;5;241m==\u001b[39m \u001b[38;5;28mobject\u001b[39m \u001b[38;5;129;01mor\u001b[39;00m dtype \u001b[38;5;241m==\u001b[39m \u001b[38;5;28mobject\u001b[39m:\n\u001b[0;32m    132\u001b[0m     \u001b[38;5;66;03m# Explicit copy, or required since NumPy can't view from / to object.\u001b[39;00m\n\u001b[1;32m--> 133\u001b[0m     \u001b[38;5;28;01mreturn\u001b[39;00m arr\u001b[38;5;241m.\u001b[39mastype(dtype, copy\u001b[38;5;241m=\u001b[39m\u001b[38;5;28;01mTrue\u001b[39;00m)\n\u001b[0;32m    135\u001b[0m \u001b[38;5;28;01mreturn\u001b[39;00m arr\u001b[38;5;241m.\u001b[39mastype(dtype, copy\u001b[38;5;241m=\u001b[39mcopy)\n",
      "\u001b[1;31mValueError\u001b[0m: invalid literal for int() with base 10: '(64, 128, 128, 32)'"
     ]
    }
   ],
   "source": [
    "df_mlp_16['hidden_layer_sizes'].astype(int)"
   ]
  },
  {
   "cell_type": "code",
   "execution_count": null,
   "metadata": {},
   "outputs": [
    {
     "ename": "TypeError",
     "evalue": "dtype '<class 'tuple'>' not understood",
     "output_type": "error",
     "traceback": [
      "\u001b[1;31m---------------------------------------------------------------------------\u001b[0m",
      "\u001b[1;31mTypeError\u001b[0m                                 Traceback (most recent call last)",
      "Cell \u001b[1;32mIn[13], line 1\u001b[0m\n\u001b[1;32m----> 1\u001b[0m df_mlp_16[\u001b[38;5;124m\"\u001b[39m\u001b[38;5;124mhidden_layer_sizes\u001b[39m\u001b[38;5;124m\"\u001b[39m]\u001b[38;5;241m.\u001b[39mastype(\u001b[38;5;28mtuple\u001b[39m)\n",
      "File \u001b[1;32mc:\\Users\\Ayden\\miniconda3\\envs\\ml\\Lib\\site-packages\\pandas\\core\\generic.py:6643\u001b[0m, in \u001b[0;36mNDFrame.astype\u001b[1;34m(self, dtype, copy, errors)\u001b[0m\n\u001b[0;32m   6637\u001b[0m     results \u001b[38;5;241m=\u001b[39m [\n\u001b[0;32m   6638\u001b[0m         ser\u001b[38;5;241m.\u001b[39mastype(dtype, copy\u001b[38;5;241m=\u001b[39mcopy, errors\u001b[38;5;241m=\u001b[39merrors) \u001b[38;5;28;01mfor\u001b[39;00m _, ser \u001b[38;5;129;01min\u001b[39;00m \u001b[38;5;28mself\u001b[39m\u001b[38;5;241m.\u001b[39mitems()\n\u001b[0;32m   6639\u001b[0m     ]\n\u001b[0;32m   6641\u001b[0m \u001b[38;5;28;01melse\u001b[39;00m:\n\u001b[0;32m   6642\u001b[0m     \u001b[38;5;66;03m# else, only a single dtype is given\u001b[39;00m\n\u001b[1;32m-> 6643\u001b[0m     new_data \u001b[38;5;241m=\u001b[39m \u001b[38;5;28mself\u001b[39m\u001b[38;5;241m.\u001b[39m_mgr\u001b[38;5;241m.\u001b[39mastype(dtype\u001b[38;5;241m=\u001b[39mdtype, copy\u001b[38;5;241m=\u001b[39mcopy, errors\u001b[38;5;241m=\u001b[39merrors)\n\u001b[0;32m   6644\u001b[0m     res \u001b[38;5;241m=\u001b[39m \u001b[38;5;28mself\u001b[39m\u001b[38;5;241m.\u001b[39m_constructor_from_mgr(new_data, axes\u001b[38;5;241m=\u001b[39mnew_data\u001b[38;5;241m.\u001b[39maxes)\n\u001b[0;32m   6645\u001b[0m     \u001b[38;5;28;01mreturn\u001b[39;00m res\u001b[38;5;241m.\u001b[39m__finalize__(\u001b[38;5;28mself\u001b[39m, method\u001b[38;5;241m=\u001b[39m\u001b[38;5;124m\"\u001b[39m\u001b[38;5;124mastype\u001b[39m\u001b[38;5;124m\"\u001b[39m)\n",
      "File \u001b[1;32mc:\\Users\\Ayden\\miniconda3\\envs\\ml\\Lib\\site-packages\\pandas\\core\\internals\\managers.py:430\u001b[0m, in \u001b[0;36mBaseBlockManager.astype\u001b[1;34m(self, dtype, copy, errors)\u001b[0m\n\u001b[0;32m    427\u001b[0m \u001b[38;5;28;01melif\u001b[39;00m using_copy_on_write():\n\u001b[0;32m    428\u001b[0m     copy \u001b[38;5;241m=\u001b[39m \u001b[38;5;28;01mFalse\u001b[39;00m\n\u001b[1;32m--> 430\u001b[0m \u001b[38;5;28;01mreturn\u001b[39;00m \u001b[38;5;28mself\u001b[39m\u001b[38;5;241m.\u001b[39mapply(\n\u001b[0;32m    431\u001b[0m     \u001b[38;5;124m\"\u001b[39m\u001b[38;5;124mastype\u001b[39m\u001b[38;5;124m\"\u001b[39m,\n\u001b[0;32m    432\u001b[0m     dtype\u001b[38;5;241m=\u001b[39mdtype,\n\u001b[0;32m    433\u001b[0m     copy\u001b[38;5;241m=\u001b[39mcopy,\n\u001b[0;32m    434\u001b[0m     errors\u001b[38;5;241m=\u001b[39merrors,\n\u001b[0;32m    435\u001b[0m     using_cow\u001b[38;5;241m=\u001b[39musing_copy_on_write(),\n\u001b[0;32m    436\u001b[0m )\n",
      "File \u001b[1;32mc:\\Users\\Ayden\\miniconda3\\envs\\ml\\Lib\\site-packages\\pandas\\core\\internals\\managers.py:363\u001b[0m, in \u001b[0;36mBaseBlockManager.apply\u001b[1;34m(self, f, align_keys, **kwargs)\u001b[0m\n\u001b[0;32m    361\u001b[0m         applied \u001b[38;5;241m=\u001b[39m b\u001b[38;5;241m.\u001b[39mapply(f, \u001b[38;5;241m*\u001b[39m\u001b[38;5;241m*\u001b[39mkwargs)\n\u001b[0;32m    362\u001b[0m     \u001b[38;5;28;01melse\u001b[39;00m:\n\u001b[1;32m--> 363\u001b[0m         applied \u001b[38;5;241m=\u001b[39m \u001b[38;5;28mgetattr\u001b[39m(b, f)(\u001b[38;5;241m*\u001b[39m\u001b[38;5;241m*\u001b[39mkwargs)\n\u001b[0;32m    364\u001b[0m     result_blocks \u001b[38;5;241m=\u001b[39m extend_blocks(applied, result_blocks)\n\u001b[0;32m    366\u001b[0m out \u001b[38;5;241m=\u001b[39m \u001b[38;5;28mtype\u001b[39m(\u001b[38;5;28mself\u001b[39m)\u001b[38;5;241m.\u001b[39mfrom_blocks(result_blocks, \u001b[38;5;28mself\u001b[39m\u001b[38;5;241m.\u001b[39maxes)\n",
      "File \u001b[1;32mc:\\Users\\Ayden\\miniconda3\\envs\\ml\\Lib\\site-packages\\pandas\\core\\internals\\blocks.py:758\u001b[0m, in \u001b[0;36mBlock.astype\u001b[1;34m(self, dtype, copy, errors, using_cow, squeeze)\u001b[0m\n\u001b[0;32m    755\u001b[0m         \u001b[38;5;28;01mraise\u001b[39;00m \u001b[38;5;167;01mValueError\u001b[39;00m(\u001b[38;5;124m\"\u001b[39m\u001b[38;5;124mCan not squeeze with more than one column.\u001b[39m\u001b[38;5;124m\"\u001b[39m)\n\u001b[0;32m    756\u001b[0m     values \u001b[38;5;241m=\u001b[39m values[\u001b[38;5;241m0\u001b[39m, :]  \u001b[38;5;66;03m# type: ignore[call-overload]\u001b[39;00m\n\u001b[1;32m--> 758\u001b[0m new_values \u001b[38;5;241m=\u001b[39m astype_array_safe(values, dtype, copy\u001b[38;5;241m=\u001b[39mcopy, errors\u001b[38;5;241m=\u001b[39merrors)\n\u001b[0;32m    760\u001b[0m new_values \u001b[38;5;241m=\u001b[39m maybe_coerce_values(new_values)\n\u001b[0;32m    762\u001b[0m refs \u001b[38;5;241m=\u001b[39m \u001b[38;5;28;01mNone\u001b[39;00m\n",
      "File \u001b[1;32mc:\\Users\\Ayden\\miniconda3\\envs\\ml\\Lib\\site-packages\\pandas\\core\\dtypes\\astype.py:231\u001b[0m, in \u001b[0;36mastype_array_safe\u001b[1;34m(values, dtype, copy, errors)\u001b[0m\n\u001b[0;32m    225\u001b[0m     msg \u001b[38;5;241m=\u001b[39m (\n\u001b[0;32m    226\u001b[0m         \u001b[38;5;124mf\u001b[39m\u001b[38;5;124m\"\u001b[39m\u001b[38;5;124mExpected an instance of \u001b[39m\u001b[38;5;132;01m{\u001b[39;00mdtype\u001b[38;5;241m.\u001b[39m\u001b[38;5;18m__name__\u001b[39m\u001b[38;5;132;01m}\u001b[39;00m\u001b[38;5;124m, \u001b[39m\u001b[38;5;124m\"\u001b[39m\n\u001b[0;32m    227\u001b[0m         \u001b[38;5;124m\"\u001b[39m\u001b[38;5;124mbut got the class instead. Try instantiating \u001b[39m\u001b[38;5;124m'\u001b[39m\u001b[38;5;124mdtype\u001b[39m\u001b[38;5;124m'\u001b[39m\u001b[38;5;124m.\u001b[39m\u001b[38;5;124m\"\u001b[39m\n\u001b[0;32m    228\u001b[0m     )\n\u001b[0;32m    229\u001b[0m     \u001b[38;5;28;01mraise\u001b[39;00m \u001b[38;5;167;01mTypeError\u001b[39;00m(msg)\n\u001b[1;32m--> 231\u001b[0m dtype \u001b[38;5;241m=\u001b[39m pandas_dtype(dtype)\n\u001b[0;32m    232\u001b[0m \u001b[38;5;28;01mif\u001b[39;00m \u001b[38;5;28misinstance\u001b[39m(dtype, NumpyEADtype):\n\u001b[0;32m    233\u001b[0m     \u001b[38;5;66;03m# Ensure we don't end up with a NumpyExtensionArray\u001b[39;00m\n\u001b[0;32m    234\u001b[0m     dtype \u001b[38;5;241m=\u001b[39m dtype\u001b[38;5;241m.\u001b[39mnumpy_dtype\n",
      "File \u001b[1;32mc:\\Users\\Ayden\\miniconda3\\envs\\ml\\Lib\\site-packages\\pandas\\core\\dtypes\\common.py:1666\u001b[0m, in \u001b[0;36mpandas_dtype\u001b[1;34m(dtype)\u001b[0m\n\u001b[0;32m   1664\u001b[0m     \u001b[38;5;28;01mreturn\u001b[39;00m npdtype\n\u001b[0;32m   1665\u001b[0m \u001b[38;5;28;01melif\u001b[39;00m npdtype\u001b[38;5;241m.\u001b[39mkind \u001b[38;5;241m==\u001b[39m \u001b[38;5;124m\"\u001b[39m\u001b[38;5;124mO\u001b[39m\u001b[38;5;124m\"\u001b[39m:\n\u001b[1;32m-> 1666\u001b[0m     \u001b[38;5;28;01mraise\u001b[39;00m \u001b[38;5;167;01mTypeError\u001b[39;00m(\u001b[38;5;124mf\u001b[39m\u001b[38;5;124m\"\u001b[39m\u001b[38;5;124mdtype \u001b[39m\u001b[38;5;124m'\u001b[39m\u001b[38;5;132;01m{\u001b[39;00mdtype\u001b[38;5;132;01m}\u001b[39;00m\u001b[38;5;124m'\u001b[39m\u001b[38;5;124m not understood\u001b[39m\u001b[38;5;124m\"\u001b[39m)\n\u001b[0;32m   1668\u001b[0m \u001b[38;5;28;01mreturn\u001b[39;00m npdtype\n",
      "\u001b[1;31mTypeError\u001b[0m: dtype '<class 'tuple'>' not understood"
     ]
    }
   ],
   "source": [
    "df_mlp_16[\"hidden_layer_sizes\"].astype(np.array)"
   ]
  },
  {
   "cell_type": "code",
   "execution_count": 19,
   "metadata": {},
   "outputs": [
    {
     "data": {
      "text/plain": [
       "(64, 128, 128, 32)"
      ]
     },
     "execution_count": 19,
     "metadata": {},
     "output_type": "execute_result"
    }
   ],
   "source": [
    "eval(df_mlp_16.loc[0, \"hidden_layer_sizes\"])"
   ]
  },
  {
   "cell_type": "code",
   "execution_count": 17,
   "metadata": {},
   "outputs": [
    {
     "data": {
      "text/plain": [
       "0     (64, 128, 128, 32)\n",
       "1              (64, 128)\n",
       "2           (64, 64, 64)\n",
       "3     (64, 128, 128, 32)\n",
       "4               (32, 64)\n",
       "5           (64, 64, 64)\n",
       "6              (64, 128)\n",
       "7         (64, 128, 128)\n",
       "8              (64, 128)\n",
       "9              (64, 128)\n",
       "10             (64, 128)\n",
       "11    (64, 128, 128, 32)\n",
       "12             (64, 128)\n",
       "13          (64, 64, 64)\n",
       "14          (64, 64, 64)\n",
       "15              (32, 64)\n",
       "16              (32, 64)\n",
       "17             (64, 128)\n",
       "18        (64, 128, 128)\n",
       "19              (32, 64)\n",
       "20        (64, 128, 128)\n",
       "21        (64, 128, 128)\n",
       "22        (64, 128, 128)\n",
       "23        (64, 128, 128)\n",
       "24             (64, 128)\n",
       "25              (32, 64)\n",
       "26              (32, 64)\n",
       "27        (64, 128, 128)\n",
       "28              (32, 64)\n",
       "29          (64, 64, 64)\n",
       "30             (64, 128)\n",
       "31        (64, 128, 128)\n",
       "32    (64, 128, 128, 32)\n",
       "33    (64, 128, 128, 32)\n",
       "34        (64, 128, 128)\n",
       "35        (64, 128, 128)\n",
       "36    (64, 128, 128, 32)\n",
       "37              (32, 64)\n",
       "38              (32, 64)\n",
       "39              (32, 64)\n",
       "40        (64, 128, 128)\n",
       "41          (64, 64, 64)\n",
       "42             (64, 128)\n",
       "43              (32, 64)\n",
       "44        (64, 128, 128)\n",
       "45             (64, 128)\n",
       "46              (32, 64)\n",
       "47          (64, 64, 64)\n",
       "Name: hidden_layer_sizes, dtype: object"
      ]
     },
     "execution_count": 17,
     "metadata": {},
     "output_type": "execute_result"
    }
   ],
   "source": [
    "df_mlp_16[\"hidden_layer_sizes\"].apply(lambda x: x)"
   ]
  },
  {
   "cell_type": "code",
   "execution_count": 22,
   "metadata": {},
   "outputs": [
    {
     "data": {
      "text/html": [
       "<div>\n",
       "<style scoped>\n",
       "    .dataframe tbody tr th:only-of-type {\n",
       "        vertical-align: middle;\n",
       "    }\n",
       "\n",
       "    .dataframe tbody tr th {\n",
       "        vertical-align: top;\n",
       "    }\n",
       "\n",
       "    .dataframe thead th {\n",
       "        text-align: right;\n",
       "    }\n",
       "</style>\n",
       "<table border=\"1\" class=\"dataframe\">\n",
       "  <thead>\n",
       "    <tr style=\"text-align: right;\">\n",
       "      <th></th>\n",
       "      <th>hidden_layer_sizes</th>\n",
       "      <th>activation</th>\n",
       "      <th>learning_rate_init</th>\n",
       "      <th>learning_rate</th>\n",
       "      <th>train_rmspe_mean</th>\n",
       "      <th>valid_rmspe_mean</th>\n",
       "      <th>train_rmspe_std</th>\n",
       "      <th>valid_rmspe_std</th>\n",
       "      <th>hidden_layer_1</th>\n",
       "      <th>hidden_layer_2</th>\n",
       "      <th>hidden_layer_3</th>\n",
       "      <th>hidden_layer_4</th>\n",
       "    </tr>\n",
       "  </thead>\n",
       "  <tbody>\n",
       "    <tr>\n",
       "      <th>0</th>\n",
       "      <td>(64, 128, 128, 32)</td>\n",
       "      <td>tanh</td>\n",
       "      <td>0.00001</td>\n",
       "      <td>adaptive</td>\n",
       "      <td>1.206278</td>\n",
       "      <td>1.191836</td>\n",
       "      <td>0.145159</td>\n",
       "      <td>0.112028</td>\n",
       "      <td>64</td>\n",
       "      <td>128</td>\n",
       "      <td>128</td>\n",
       "      <td>32</td>\n",
       "    </tr>\n",
       "    <tr>\n",
       "      <th>1</th>\n",
       "      <td>(64, 128)</td>\n",
       "      <td>tanh</td>\n",
       "      <td>0.00100</td>\n",
       "      <td>constant</td>\n",
       "      <td>0.333054</td>\n",
       "      <td>0.339615</td>\n",
       "      <td>0.054923</td>\n",
       "      <td>0.064318</td>\n",
       "      <td>64</td>\n",
       "      <td>128</td>\n",
       "      <td>0</td>\n",
       "      <td>0</td>\n",
       "    </tr>\n",
       "    <tr>\n",
       "      <th>2</th>\n",
       "      <td>(64, 64, 64)</td>\n",
       "      <td>relu</td>\n",
       "      <td>0.00100</td>\n",
       "      <td>constant</td>\n",
       "      <td>0.377648</td>\n",
       "      <td>0.378247</td>\n",
       "      <td>0.062464</td>\n",
       "      <td>0.061144</td>\n",
       "      <td>64</td>\n",
       "      <td>64</td>\n",
       "      <td>64</td>\n",
       "      <td>0</td>\n",
       "    </tr>\n",
       "    <tr>\n",
       "      <th>3</th>\n",
       "      <td>(64, 128, 128, 32)</td>\n",
       "      <td>relu</td>\n",
       "      <td>0.00100</td>\n",
       "      <td>constant</td>\n",
       "      <td>0.345312</td>\n",
       "      <td>0.343583</td>\n",
       "      <td>0.036025</td>\n",
       "      <td>0.035297</td>\n",
       "      <td>64</td>\n",
       "      <td>128</td>\n",
       "      <td>128</td>\n",
       "      <td>32</td>\n",
       "    </tr>\n",
       "    <tr>\n",
       "      <th>4</th>\n",
       "      <td>(32, 64)</td>\n",
       "      <td>relu</td>\n",
       "      <td>0.00001</td>\n",
       "      <td>adaptive</td>\n",
       "      <td>5.043169</td>\n",
       "      <td>4.998427</td>\n",
       "      <td>0.165811</td>\n",
       "      <td>0.202845</td>\n",
       "      <td>32</td>\n",
       "      <td>64</td>\n",
       "      <td>0</td>\n",
       "      <td>0</td>\n",
       "    </tr>\n",
       "    <tr>\n",
       "      <th>5</th>\n",
       "      <td>(64, 64, 64)</td>\n",
       "      <td>relu</td>\n",
       "      <td>0.00010</td>\n",
       "      <td>constant</td>\n",
       "      <td>2.261245</td>\n",
       "      <td>2.128747</td>\n",
       "      <td>1.033061</td>\n",
       "      <td>0.943898</td>\n",
       "      <td>64</td>\n",
       "      <td>64</td>\n",
       "      <td>64</td>\n",
       "      <td>0</td>\n",
       "    </tr>\n",
       "    <tr>\n",
       "      <th>6</th>\n",
       "      <td>(64, 128)</td>\n",
       "      <td>relu</td>\n",
       "      <td>0.00100</td>\n",
       "      <td>adaptive</td>\n",
       "      <td>0.322755</td>\n",
       "      <td>0.324558</td>\n",
       "      <td>0.017375</td>\n",
       "      <td>0.021575</td>\n",
       "      <td>64</td>\n",
       "      <td>128</td>\n",
       "      <td>0</td>\n",
       "      <td>0</td>\n",
       "    </tr>\n",
       "    <tr>\n",
       "      <th>7</th>\n",
       "      <td>(64, 128, 128)</td>\n",
       "      <td>tanh</td>\n",
       "      <td>0.00001</td>\n",
       "      <td>adaptive</td>\n",
       "      <td>1.388275</td>\n",
       "      <td>1.471553</td>\n",
       "      <td>0.145759</td>\n",
       "      <td>0.039463</td>\n",
       "      <td>64</td>\n",
       "      <td>128</td>\n",
       "      <td>128</td>\n",
       "      <td>0</td>\n",
       "    </tr>\n",
       "    <tr>\n",
       "      <th>8</th>\n",
       "      <td>(64, 128)</td>\n",
       "      <td>relu</td>\n",
       "      <td>0.00100</td>\n",
       "      <td>constant</td>\n",
       "      <td>0.412843</td>\n",
       "      <td>0.416943</td>\n",
       "      <td>0.086901</td>\n",
       "      <td>0.087154</td>\n",
       "      <td>64</td>\n",
       "      <td>128</td>\n",
       "      <td>0</td>\n",
       "      <td>0</td>\n",
       "    </tr>\n",
       "    <tr>\n",
       "      <th>9</th>\n",
       "      <td>(64, 128)</td>\n",
       "      <td>tanh</td>\n",
       "      <td>0.00001</td>\n",
       "      <td>constant</td>\n",
       "      <td>1.867775</td>\n",
       "      <td>1.895363</td>\n",
       "      <td>0.222907</td>\n",
       "      <td>0.197023</td>\n",
       "      <td>64</td>\n",
       "      <td>128</td>\n",
       "      <td>0</td>\n",
       "      <td>0</td>\n",
       "    </tr>\n",
       "    <tr>\n",
       "      <th>10</th>\n",
       "      <td>(64, 128)</td>\n",
       "      <td>relu</td>\n",
       "      <td>0.00100</td>\n",
       "      <td>adaptive</td>\n",
       "      <td>0.308692</td>\n",
       "      <td>0.309703</td>\n",
       "      <td>0.030884</td>\n",
       "      <td>0.032949</td>\n",
       "      <td>64</td>\n",
       "      <td>128</td>\n",
       "      <td>0</td>\n",
       "      <td>0</td>\n",
       "    </tr>\n",
       "    <tr>\n",
       "      <th>11</th>\n",
       "      <td>(64, 128, 128, 32)</td>\n",
       "      <td>relu</td>\n",
       "      <td>0.00001</td>\n",
       "      <td>constant</td>\n",
       "      <td>2.179696</td>\n",
       "      <td>2.201565</td>\n",
       "      <td>0.528414</td>\n",
       "      <td>0.558511</td>\n",
       "      <td>64</td>\n",
       "      <td>128</td>\n",
       "      <td>128</td>\n",
       "      <td>32</td>\n",
       "    </tr>\n",
       "    <tr>\n",
       "      <th>12</th>\n",
       "      <td>(64, 128)</td>\n",
       "      <td>relu</td>\n",
       "      <td>0.00100</td>\n",
       "      <td>constant</td>\n",
       "      <td>0.299510</td>\n",
       "      <td>0.297950</td>\n",
       "      <td>0.012885</td>\n",
       "      <td>0.010497</td>\n",
       "      <td>64</td>\n",
       "      <td>128</td>\n",
       "      <td>0</td>\n",
       "      <td>0</td>\n",
       "    </tr>\n",
       "    <tr>\n",
       "      <th>13</th>\n",
       "      <td>(64, 64, 64)</td>\n",
       "      <td>relu</td>\n",
       "      <td>0.00100</td>\n",
       "      <td>constant</td>\n",
       "      <td>0.296996</td>\n",
       "      <td>0.296777</td>\n",
       "      <td>0.018102</td>\n",
       "      <td>0.015938</td>\n",
       "      <td>64</td>\n",
       "      <td>64</td>\n",
       "      <td>64</td>\n",
       "      <td>0</td>\n",
       "    </tr>\n",
       "    <tr>\n",
       "      <th>14</th>\n",
       "      <td>(64, 64, 64)</td>\n",
       "      <td>relu</td>\n",
       "      <td>0.00100</td>\n",
       "      <td>constant</td>\n",
       "      <td>0.308161</td>\n",
       "      <td>0.305690</td>\n",
       "      <td>0.003492</td>\n",
       "      <td>0.006423</td>\n",
       "      <td>64</td>\n",
       "      <td>64</td>\n",
       "      <td>64</td>\n",
       "      <td>0</td>\n",
       "    </tr>\n",
       "    <tr>\n",
       "      <th>15</th>\n",
       "      <td>(32, 64)</td>\n",
       "      <td>relu</td>\n",
       "      <td>0.00010</td>\n",
       "      <td>constant</td>\n",
       "      <td>1.761727</td>\n",
       "      <td>1.791179</td>\n",
       "      <td>0.147605</td>\n",
       "      <td>0.138453</td>\n",
       "      <td>32</td>\n",
       "      <td>64</td>\n",
       "      <td>0</td>\n",
       "      <td>0</td>\n",
       "    </tr>\n",
       "    <tr>\n",
       "      <th>16</th>\n",
       "      <td>(32, 64)</td>\n",
       "      <td>tanh</td>\n",
       "      <td>0.00010</td>\n",
       "      <td>adaptive</td>\n",
       "      <td>0.829695</td>\n",
       "      <td>0.850003</td>\n",
       "      <td>0.065513</td>\n",
       "      <td>0.035465</td>\n",
       "      <td>32</td>\n",
       "      <td>64</td>\n",
       "      <td>0</td>\n",
       "      <td>0</td>\n",
       "    </tr>\n",
       "    <tr>\n",
       "      <th>17</th>\n",
       "      <td>(64, 128)</td>\n",
       "      <td>relu</td>\n",
       "      <td>0.00001</td>\n",
       "      <td>constant</td>\n",
       "      <td>3.656981</td>\n",
       "      <td>3.719300</td>\n",
       "      <td>0.405432</td>\n",
       "      <td>0.459673</td>\n",
       "      <td>64</td>\n",
       "      <td>128</td>\n",
       "      <td>0</td>\n",
       "      <td>0</td>\n",
       "    </tr>\n",
       "    <tr>\n",
       "      <th>18</th>\n",
       "      <td>(64, 128, 128)</td>\n",
       "      <td>tanh</td>\n",
       "      <td>0.00100</td>\n",
       "      <td>constant</td>\n",
       "      <td>0.467367</td>\n",
       "      <td>0.467967</td>\n",
       "      <td>0.197127</td>\n",
       "      <td>0.200512</td>\n",
       "      <td>64</td>\n",
       "      <td>128</td>\n",
       "      <td>128</td>\n",
       "      <td>0</td>\n",
       "    </tr>\n",
       "    <tr>\n",
       "      <th>19</th>\n",
       "      <td>(32, 64)</td>\n",
       "      <td>relu</td>\n",
       "      <td>0.00100</td>\n",
       "      <td>constant</td>\n",
       "      <td>0.547695</td>\n",
       "      <td>0.550302</td>\n",
       "      <td>0.136339</td>\n",
       "      <td>0.137086</td>\n",
       "      <td>32</td>\n",
       "      <td>64</td>\n",
       "      <td>0</td>\n",
       "      <td>0</td>\n",
       "    </tr>\n",
       "    <tr>\n",
       "      <th>20</th>\n",
       "      <td>(64, 128, 128)</td>\n",
       "      <td>tanh</td>\n",
       "      <td>0.00001</td>\n",
       "      <td>adaptive</td>\n",
       "      <td>1.207320</td>\n",
       "      <td>1.146065</td>\n",
       "      <td>0.103406</td>\n",
       "      <td>0.041830</td>\n",
       "      <td>64</td>\n",
       "      <td>128</td>\n",
       "      <td>128</td>\n",
       "      <td>0</td>\n",
       "    </tr>\n",
       "    <tr>\n",
       "      <th>21</th>\n",
       "      <td>(64, 128, 128)</td>\n",
       "      <td>relu</td>\n",
       "      <td>0.00100</td>\n",
       "      <td>constant</td>\n",
       "      <td>0.331030</td>\n",
       "      <td>0.328906</td>\n",
       "      <td>0.070713</td>\n",
       "      <td>0.067407</td>\n",
       "      <td>64</td>\n",
       "      <td>128</td>\n",
       "      <td>128</td>\n",
       "      <td>0</td>\n",
       "    </tr>\n",
       "    <tr>\n",
       "      <th>22</th>\n",
       "      <td>(64, 128, 128)</td>\n",
       "      <td>tanh</td>\n",
       "      <td>0.00010</td>\n",
       "      <td>adaptive</td>\n",
       "      <td>0.737966</td>\n",
       "      <td>0.744119</td>\n",
       "      <td>0.183099</td>\n",
       "      <td>0.151181</td>\n",
       "      <td>64</td>\n",
       "      <td>128</td>\n",
       "      <td>128</td>\n",
       "      <td>0</td>\n",
       "    </tr>\n",
       "    <tr>\n",
       "      <th>23</th>\n",
       "      <td>(64, 128, 128)</td>\n",
       "      <td>tanh</td>\n",
       "      <td>0.00010</td>\n",
       "      <td>adaptive</td>\n",
       "      <td>0.758648</td>\n",
       "      <td>0.768094</td>\n",
       "      <td>0.069055</td>\n",
       "      <td>0.060180</td>\n",
       "      <td>64</td>\n",
       "      <td>128</td>\n",
       "      <td>128</td>\n",
       "      <td>0</td>\n",
       "    </tr>\n",
       "    <tr>\n",
       "      <th>24</th>\n",
       "      <td>(64, 128)</td>\n",
       "      <td>tanh</td>\n",
       "      <td>0.00010</td>\n",
       "      <td>constant</td>\n",
       "      <td>0.828152</td>\n",
       "      <td>0.820330</td>\n",
       "      <td>0.201739</td>\n",
       "      <td>0.183191</td>\n",
       "      <td>64</td>\n",
       "      <td>128</td>\n",
       "      <td>0</td>\n",
       "      <td>0</td>\n",
       "    </tr>\n",
       "    <tr>\n",
       "      <th>25</th>\n",
       "      <td>(32, 64)</td>\n",
       "      <td>relu</td>\n",
       "      <td>0.00100</td>\n",
       "      <td>constant</td>\n",
       "      <td>0.869742</td>\n",
       "      <td>0.887786</td>\n",
       "      <td>0.323708</td>\n",
       "      <td>0.364264</td>\n",
       "      <td>32</td>\n",
       "      <td>64</td>\n",
       "      <td>0</td>\n",
       "      <td>0</td>\n",
       "    </tr>\n",
       "    <tr>\n",
       "      <th>26</th>\n",
       "      <td>(32, 64)</td>\n",
       "      <td>relu</td>\n",
       "      <td>0.00100</td>\n",
       "      <td>adaptive</td>\n",
       "      <td>0.350179</td>\n",
       "      <td>0.341421</td>\n",
       "      <td>0.039481</td>\n",
       "      <td>0.039117</td>\n",
       "      <td>32</td>\n",
       "      <td>64</td>\n",
       "      <td>0</td>\n",
       "      <td>0</td>\n",
       "    </tr>\n",
       "    <tr>\n",
       "      <th>27</th>\n",
       "      <td>(64, 128, 128)</td>\n",
       "      <td>tanh</td>\n",
       "      <td>0.00001</td>\n",
       "      <td>adaptive</td>\n",
       "      <td>1.251497</td>\n",
       "      <td>1.278079</td>\n",
       "      <td>0.165664</td>\n",
       "      <td>0.226352</td>\n",
       "      <td>64</td>\n",
       "      <td>128</td>\n",
       "      <td>128</td>\n",
       "      <td>0</td>\n",
       "    </tr>\n",
       "    <tr>\n",
       "      <th>28</th>\n",
       "      <td>(32, 64)</td>\n",
       "      <td>relu</td>\n",
       "      <td>0.00010</td>\n",
       "      <td>adaptive</td>\n",
       "      <td>2.190762</td>\n",
       "      <td>2.268199</td>\n",
       "      <td>0.366434</td>\n",
       "      <td>0.480200</td>\n",
       "      <td>32</td>\n",
       "      <td>64</td>\n",
       "      <td>0</td>\n",
       "      <td>0</td>\n",
       "    </tr>\n",
       "    <tr>\n",
       "      <th>29</th>\n",
       "      <td>(64, 64, 64)</td>\n",
       "      <td>relu</td>\n",
       "      <td>0.00010</td>\n",
       "      <td>constant</td>\n",
       "      <td>1.411839</td>\n",
       "      <td>1.469237</td>\n",
       "      <td>0.128091</td>\n",
       "      <td>0.184483</td>\n",
       "      <td>64</td>\n",
       "      <td>64</td>\n",
       "      <td>64</td>\n",
       "      <td>0</td>\n",
       "    </tr>\n",
       "    <tr>\n",
       "      <th>30</th>\n",
       "      <td>(64, 128)</td>\n",
       "      <td>relu</td>\n",
       "      <td>0.00100</td>\n",
       "      <td>adaptive</td>\n",
       "      <td>0.429763</td>\n",
       "      <td>0.428118</td>\n",
       "      <td>0.122750</td>\n",
       "      <td>0.121141</td>\n",
       "      <td>64</td>\n",
       "      <td>128</td>\n",
       "      <td>0</td>\n",
       "      <td>0</td>\n",
       "    </tr>\n",
       "    <tr>\n",
       "      <th>31</th>\n",
       "      <td>(64, 128, 128)</td>\n",
       "      <td>tanh</td>\n",
       "      <td>0.00100</td>\n",
       "      <td>adaptive</td>\n",
       "      <td>0.319688</td>\n",
       "      <td>0.320512</td>\n",
       "      <td>0.009528</td>\n",
       "      <td>0.009017</td>\n",
       "      <td>64</td>\n",
       "      <td>128</td>\n",
       "      <td>128</td>\n",
       "      <td>0</td>\n",
       "    </tr>\n",
       "    <tr>\n",
       "      <th>32</th>\n",
       "      <td>(64, 128, 128, 32)</td>\n",
       "      <td>tanh</td>\n",
       "      <td>0.00100</td>\n",
       "      <td>adaptive</td>\n",
       "      <td>0.318812</td>\n",
       "      <td>0.318617</td>\n",
       "      <td>0.012296</td>\n",
       "      <td>0.014529</td>\n",
       "      <td>64</td>\n",
       "      <td>128</td>\n",
       "      <td>128</td>\n",
       "      <td>32</td>\n",
       "    </tr>\n",
       "    <tr>\n",
       "      <th>33</th>\n",
       "      <td>(64, 128, 128, 32)</td>\n",
       "      <td>relu</td>\n",
       "      <td>0.00010</td>\n",
       "      <td>constant</td>\n",
       "      <td>0.998302</td>\n",
       "      <td>1.037521</td>\n",
       "      <td>0.276032</td>\n",
       "      <td>0.230264</td>\n",
       "      <td>64</td>\n",
       "      <td>128</td>\n",
       "      <td>128</td>\n",
       "      <td>32</td>\n",
       "    </tr>\n",
       "    <tr>\n",
       "      <th>34</th>\n",
       "      <td>(64, 128, 128)</td>\n",
       "      <td>relu</td>\n",
       "      <td>0.00001</td>\n",
       "      <td>adaptive</td>\n",
       "      <td>2.465412</td>\n",
       "      <td>2.505239</td>\n",
       "      <td>0.062568</td>\n",
       "      <td>0.102956</td>\n",
       "      <td>64</td>\n",
       "      <td>128</td>\n",
       "      <td>128</td>\n",
       "      <td>0</td>\n",
       "    </tr>\n",
       "    <tr>\n",
       "      <th>35</th>\n",
       "      <td>(64, 128, 128)</td>\n",
       "      <td>tanh</td>\n",
       "      <td>0.00100</td>\n",
       "      <td>adaptive</td>\n",
       "      <td>0.513297</td>\n",
       "      <td>0.512260</td>\n",
       "      <td>0.110347</td>\n",
       "      <td>0.109320</td>\n",
       "      <td>64</td>\n",
       "      <td>128</td>\n",
       "      <td>128</td>\n",
       "      <td>0</td>\n",
       "    </tr>\n",
       "    <tr>\n",
       "      <th>36</th>\n",
       "      <td>(64, 128, 128, 32)</td>\n",
       "      <td>tanh</td>\n",
       "      <td>0.00100</td>\n",
       "      <td>constant</td>\n",
       "      <td>0.416816</td>\n",
       "      <td>0.415790</td>\n",
       "      <td>0.064350</td>\n",
       "      <td>0.061543</td>\n",
       "      <td>64</td>\n",
       "      <td>128</td>\n",
       "      <td>128</td>\n",
       "      <td>32</td>\n",
       "    </tr>\n",
       "    <tr>\n",
       "      <th>37</th>\n",
       "      <td>(32, 64)</td>\n",
       "      <td>relu</td>\n",
       "      <td>0.00100</td>\n",
       "      <td>constant</td>\n",
       "      <td>0.342655</td>\n",
       "      <td>0.341615</td>\n",
       "      <td>0.038367</td>\n",
       "      <td>0.039074</td>\n",
       "      <td>32</td>\n",
       "      <td>64</td>\n",
       "      <td>0</td>\n",
       "      <td>0</td>\n",
       "    </tr>\n",
       "    <tr>\n",
       "      <th>38</th>\n",
       "      <td>(32, 64)</td>\n",
       "      <td>relu</td>\n",
       "      <td>0.00010</td>\n",
       "      <td>adaptive</td>\n",
       "      <td>1.584153</td>\n",
       "      <td>1.555933</td>\n",
       "      <td>0.061152</td>\n",
       "      <td>0.131101</td>\n",
       "      <td>32</td>\n",
       "      <td>64</td>\n",
       "      <td>0</td>\n",
       "      <td>0</td>\n",
       "    </tr>\n",
       "    <tr>\n",
       "      <th>39</th>\n",
       "      <td>(32, 64)</td>\n",
       "      <td>relu</td>\n",
       "      <td>0.00001</td>\n",
       "      <td>constant</td>\n",
       "      <td>4.735352</td>\n",
       "      <td>5.044781</td>\n",
       "      <td>0.534516</td>\n",
       "      <td>0.221042</td>\n",
       "      <td>32</td>\n",
       "      <td>64</td>\n",
       "      <td>0</td>\n",
       "      <td>0</td>\n",
       "    </tr>\n",
       "    <tr>\n",
       "      <th>40</th>\n",
       "      <td>(64, 128, 128)</td>\n",
       "      <td>tanh</td>\n",
       "      <td>0.00001</td>\n",
       "      <td>constant</td>\n",
       "      <td>1.098760</td>\n",
       "      <td>1.101785</td>\n",
       "      <td>0.021207</td>\n",
       "      <td>0.024802</td>\n",
       "      <td>64</td>\n",
       "      <td>128</td>\n",
       "      <td>128</td>\n",
       "      <td>0</td>\n",
       "    </tr>\n",
       "    <tr>\n",
       "      <th>41</th>\n",
       "      <td>(64, 64, 64)</td>\n",
       "      <td>tanh</td>\n",
       "      <td>0.00001</td>\n",
       "      <td>adaptive</td>\n",
       "      <td>1.600448</td>\n",
       "      <td>1.620002</td>\n",
       "      <td>0.149453</td>\n",
       "      <td>0.141444</td>\n",
       "      <td>64</td>\n",
       "      <td>64</td>\n",
       "      <td>64</td>\n",
       "      <td>0</td>\n",
       "    </tr>\n",
       "    <tr>\n",
       "      <th>42</th>\n",
       "      <td>(64, 128)</td>\n",
       "      <td>tanh</td>\n",
       "      <td>0.00001</td>\n",
       "      <td>adaptive</td>\n",
       "      <td>1.795667</td>\n",
       "      <td>1.872854</td>\n",
       "      <td>0.077218</td>\n",
       "      <td>0.197476</td>\n",
       "      <td>64</td>\n",
       "      <td>128</td>\n",
       "      <td>0</td>\n",
       "      <td>0</td>\n",
       "    </tr>\n",
       "    <tr>\n",
       "      <th>43</th>\n",
       "      <td>(32, 64)</td>\n",
       "      <td>relu</td>\n",
       "      <td>0.00001</td>\n",
       "      <td>adaptive</td>\n",
       "      <td>4.341449</td>\n",
       "      <td>4.353630</td>\n",
       "      <td>0.246403</td>\n",
       "      <td>0.293342</td>\n",
       "      <td>32</td>\n",
       "      <td>64</td>\n",
       "      <td>0</td>\n",
       "      <td>0</td>\n",
       "    </tr>\n",
       "    <tr>\n",
       "      <th>44</th>\n",
       "      <td>(64, 128, 128)</td>\n",
       "      <td>relu</td>\n",
       "      <td>0.00010</td>\n",
       "      <td>constant</td>\n",
       "      <td>0.950651</td>\n",
       "      <td>1.094334</td>\n",
       "      <td>0.055697</td>\n",
       "      <td>0.199645</td>\n",
       "      <td>64</td>\n",
       "      <td>128</td>\n",
       "      <td>128</td>\n",
       "      <td>0</td>\n",
       "    </tr>\n",
       "    <tr>\n",
       "      <th>45</th>\n",
       "      <td>(64, 128)</td>\n",
       "      <td>tanh</td>\n",
       "      <td>0.00100</td>\n",
       "      <td>constant</td>\n",
       "      <td>0.619107</td>\n",
       "      <td>0.617011</td>\n",
       "      <td>0.313414</td>\n",
       "      <td>0.314732</td>\n",
       "      <td>64</td>\n",
       "      <td>128</td>\n",
       "      <td>0</td>\n",
       "      <td>0</td>\n",
       "    </tr>\n",
       "    <tr>\n",
       "      <th>46</th>\n",
       "      <td>(32, 64)</td>\n",
       "      <td>tanh</td>\n",
       "      <td>0.00010</td>\n",
       "      <td>adaptive</td>\n",
       "      <td>0.855891</td>\n",
       "      <td>0.871039</td>\n",
       "      <td>0.080272</td>\n",
       "      <td>0.088583</td>\n",
       "      <td>32</td>\n",
       "      <td>64</td>\n",
       "      <td>0</td>\n",
       "      <td>0</td>\n",
       "    </tr>\n",
       "    <tr>\n",
       "      <th>47</th>\n",
       "      <td>(64, 64, 64)</td>\n",
       "      <td>tanh</td>\n",
       "      <td>0.00100</td>\n",
       "      <td>constant</td>\n",
       "      <td>0.366122</td>\n",
       "      <td>0.365087</td>\n",
       "      <td>0.016929</td>\n",
       "      <td>0.016738</td>\n",
       "      <td>64</td>\n",
       "      <td>64</td>\n",
       "      <td>64</td>\n",
       "      <td>0</td>\n",
       "    </tr>\n",
       "  </tbody>\n",
       "</table>\n",
       "</div>"
      ],
      "text/plain": [
       "    hidden_layer_sizes activation  learning_rate_init learning_rate  \\\n",
       "0   (64, 128, 128, 32)       tanh             0.00001      adaptive   \n",
       "1            (64, 128)       tanh             0.00100      constant   \n",
       "2         (64, 64, 64)       relu             0.00100      constant   \n",
       "3   (64, 128, 128, 32)       relu             0.00100      constant   \n",
       "4             (32, 64)       relu             0.00001      adaptive   \n",
       "5         (64, 64, 64)       relu             0.00010      constant   \n",
       "6            (64, 128)       relu             0.00100      adaptive   \n",
       "7       (64, 128, 128)       tanh             0.00001      adaptive   \n",
       "8            (64, 128)       relu             0.00100      constant   \n",
       "9            (64, 128)       tanh             0.00001      constant   \n",
       "10           (64, 128)       relu             0.00100      adaptive   \n",
       "11  (64, 128, 128, 32)       relu             0.00001      constant   \n",
       "12           (64, 128)       relu             0.00100      constant   \n",
       "13        (64, 64, 64)       relu             0.00100      constant   \n",
       "14        (64, 64, 64)       relu             0.00100      constant   \n",
       "15            (32, 64)       relu             0.00010      constant   \n",
       "16            (32, 64)       tanh             0.00010      adaptive   \n",
       "17           (64, 128)       relu             0.00001      constant   \n",
       "18      (64, 128, 128)       tanh             0.00100      constant   \n",
       "19            (32, 64)       relu             0.00100      constant   \n",
       "20      (64, 128, 128)       tanh             0.00001      adaptive   \n",
       "21      (64, 128, 128)       relu             0.00100      constant   \n",
       "22      (64, 128, 128)       tanh             0.00010      adaptive   \n",
       "23      (64, 128, 128)       tanh             0.00010      adaptive   \n",
       "24           (64, 128)       tanh             0.00010      constant   \n",
       "25            (32, 64)       relu             0.00100      constant   \n",
       "26            (32, 64)       relu             0.00100      adaptive   \n",
       "27      (64, 128, 128)       tanh             0.00001      adaptive   \n",
       "28            (32, 64)       relu             0.00010      adaptive   \n",
       "29        (64, 64, 64)       relu             0.00010      constant   \n",
       "30           (64, 128)       relu             0.00100      adaptive   \n",
       "31      (64, 128, 128)       tanh             0.00100      adaptive   \n",
       "32  (64, 128, 128, 32)       tanh             0.00100      adaptive   \n",
       "33  (64, 128, 128, 32)       relu             0.00010      constant   \n",
       "34      (64, 128, 128)       relu             0.00001      adaptive   \n",
       "35      (64, 128, 128)       tanh             0.00100      adaptive   \n",
       "36  (64, 128, 128, 32)       tanh             0.00100      constant   \n",
       "37            (32, 64)       relu             0.00100      constant   \n",
       "38            (32, 64)       relu             0.00010      adaptive   \n",
       "39            (32, 64)       relu             0.00001      constant   \n",
       "40      (64, 128, 128)       tanh             0.00001      constant   \n",
       "41        (64, 64, 64)       tanh             0.00001      adaptive   \n",
       "42           (64, 128)       tanh             0.00001      adaptive   \n",
       "43            (32, 64)       relu             0.00001      adaptive   \n",
       "44      (64, 128, 128)       relu             0.00010      constant   \n",
       "45           (64, 128)       tanh             0.00100      constant   \n",
       "46            (32, 64)       tanh             0.00010      adaptive   \n",
       "47        (64, 64, 64)       tanh             0.00100      constant   \n",
       "\n",
       "    train_rmspe_mean  valid_rmspe_mean  train_rmspe_std  valid_rmspe_std  \\\n",
       "0           1.206278          1.191836         0.145159         0.112028   \n",
       "1           0.333054          0.339615         0.054923         0.064318   \n",
       "2           0.377648          0.378247         0.062464         0.061144   \n",
       "3           0.345312          0.343583         0.036025         0.035297   \n",
       "4           5.043169          4.998427         0.165811         0.202845   \n",
       "5           2.261245          2.128747         1.033061         0.943898   \n",
       "6           0.322755          0.324558         0.017375         0.021575   \n",
       "7           1.388275          1.471553         0.145759         0.039463   \n",
       "8           0.412843          0.416943         0.086901         0.087154   \n",
       "9           1.867775          1.895363         0.222907         0.197023   \n",
       "10          0.308692          0.309703         0.030884         0.032949   \n",
       "11          2.179696          2.201565         0.528414         0.558511   \n",
       "12          0.299510          0.297950         0.012885         0.010497   \n",
       "13          0.296996          0.296777         0.018102         0.015938   \n",
       "14          0.308161          0.305690         0.003492         0.006423   \n",
       "15          1.761727          1.791179         0.147605         0.138453   \n",
       "16          0.829695          0.850003         0.065513         0.035465   \n",
       "17          3.656981          3.719300         0.405432         0.459673   \n",
       "18          0.467367          0.467967         0.197127         0.200512   \n",
       "19          0.547695          0.550302         0.136339         0.137086   \n",
       "20          1.207320          1.146065         0.103406         0.041830   \n",
       "21          0.331030          0.328906         0.070713         0.067407   \n",
       "22          0.737966          0.744119         0.183099         0.151181   \n",
       "23          0.758648          0.768094         0.069055         0.060180   \n",
       "24          0.828152          0.820330         0.201739         0.183191   \n",
       "25          0.869742          0.887786         0.323708         0.364264   \n",
       "26          0.350179          0.341421         0.039481         0.039117   \n",
       "27          1.251497          1.278079         0.165664         0.226352   \n",
       "28          2.190762          2.268199         0.366434         0.480200   \n",
       "29          1.411839          1.469237         0.128091         0.184483   \n",
       "30          0.429763          0.428118         0.122750         0.121141   \n",
       "31          0.319688          0.320512         0.009528         0.009017   \n",
       "32          0.318812          0.318617         0.012296         0.014529   \n",
       "33          0.998302          1.037521         0.276032         0.230264   \n",
       "34          2.465412          2.505239         0.062568         0.102956   \n",
       "35          0.513297          0.512260         0.110347         0.109320   \n",
       "36          0.416816          0.415790         0.064350         0.061543   \n",
       "37          0.342655          0.341615         0.038367         0.039074   \n",
       "38          1.584153          1.555933         0.061152         0.131101   \n",
       "39          4.735352          5.044781         0.534516         0.221042   \n",
       "40          1.098760          1.101785         0.021207         0.024802   \n",
       "41          1.600448          1.620002         0.149453         0.141444   \n",
       "42          1.795667          1.872854         0.077218         0.197476   \n",
       "43          4.341449          4.353630         0.246403         0.293342   \n",
       "44          0.950651          1.094334         0.055697         0.199645   \n",
       "45          0.619107          0.617011         0.313414         0.314732   \n",
       "46          0.855891          0.871039         0.080272         0.088583   \n",
       "47          0.366122          0.365087         0.016929         0.016738   \n",
       "\n",
       "    hidden_layer_1  hidden_layer_2  hidden_layer_3  hidden_layer_4  \n",
       "0               64             128             128              32  \n",
       "1               64             128               0               0  \n",
       "2               64              64              64               0  \n",
       "3               64             128             128              32  \n",
       "4               32              64               0               0  \n",
       "5               64              64              64               0  \n",
       "6               64             128               0               0  \n",
       "7               64             128             128               0  \n",
       "8               64             128               0               0  \n",
       "9               64             128               0               0  \n",
       "10              64             128               0               0  \n",
       "11              64             128             128              32  \n",
       "12              64             128               0               0  \n",
       "13              64              64              64               0  \n",
       "14              64              64              64               0  \n",
       "15              32              64               0               0  \n",
       "16              32              64               0               0  \n",
       "17              64             128               0               0  \n",
       "18              64             128             128               0  \n",
       "19              32              64               0               0  \n",
       "20              64             128             128               0  \n",
       "21              64             128             128               0  \n",
       "22              64             128             128               0  \n",
       "23              64             128             128               0  \n",
       "24              64             128               0               0  \n",
       "25              32              64               0               0  \n",
       "26              32              64               0               0  \n",
       "27              64             128             128               0  \n",
       "28              32              64               0               0  \n",
       "29              64              64              64               0  \n",
       "30              64             128               0               0  \n",
       "31              64             128             128               0  \n",
       "32              64             128             128              32  \n",
       "33              64             128             128              32  \n",
       "34              64             128             128               0  \n",
       "35              64             128             128               0  \n",
       "36              64             128             128              32  \n",
       "37              32              64               0               0  \n",
       "38              32              64               0               0  \n",
       "39              32              64               0               0  \n",
       "40              64             128             128               0  \n",
       "41              64              64              64               0  \n",
       "42              64             128               0               0  \n",
       "43              32              64               0               0  \n",
       "44              64             128             128               0  \n",
       "45              64             128               0               0  \n",
       "46              32              64               0               0  \n",
       "47              64              64              64               0  "
      ]
     },
     "execution_count": 22,
     "metadata": {},
     "output_type": "execute_result"
    }
   ],
   "source": [
    "df_mlp_16[\"hidden_layer_1\"] = df_mlp_16[\"hidden_layer_sizes\"].apply(lambda x: eval(x)[0] if len(eval(x)) > 0 else 0)\n",
    "df_mlp_16[\"hidden_layer_2\"] = df_mlp_16[\"hidden_layer_sizes\"].apply(lambda x: eval(x)[1] if len(eval(x)) > 1 else 0)\n",
    "df_mlp_16[\"hidden_layer_3\"] = df_mlp_16[\"hidden_layer_sizes\"].apply(lambda x: eval(x)[2] if len(eval(x)) > 2 else 0)\n",
    "df_mlp_16[\"hidden_layer_4\"] = df_mlp_16[\"hidden_layer_sizes\"].apply(lambda x: eval(x)[3] if len(eval(x)) > 3 else 0)\n",
    "df_mlp_16\n"
   ]
  },
  {
   "cell_type": "code",
   "execution_count": 24,
   "metadata": {},
   "outputs": [
    {
     "data": {
      "application/vnd.plotly.v1+json": {
       "config": {
        "plotlyServerURL": "https://plot.ly"
       },
       "data": [
        {
         "dimensions": [
          {
           "label": "Hidden Layer 1 Size",
           "values": [
            64,
            64,
            64,
            64,
            32,
            64,
            64,
            64,
            64,
            64,
            64,
            64,
            64,
            64,
            64,
            32,
            32,
            64,
            64,
            32,
            64,
            64,
            64,
            64,
            64,
            32,
            32,
            64,
            32,
            64,
            64,
            64,
            64,
            64,
            64,
            64,
            64,
            32,
            32,
            32,
            64,
            64,
            64,
            32,
            64,
            64,
            32,
            64
           ]
          },
          {
           "label": "Hidden Layer 2 Size",
           "values": [
            128,
            128,
            64,
            128,
            64,
            64,
            128,
            128,
            128,
            128,
            128,
            128,
            128,
            64,
            64,
            64,
            64,
            128,
            128,
            64,
            128,
            128,
            128,
            128,
            128,
            64,
            64,
            128,
            64,
            64,
            128,
            128,
            128,
            128,
            128,
            128,
            128,
            64,
            64,
            64,
            128,
            64,
            128,
            64,
            128,
            128,
            64,
            64
           ]
          },
          {
           "label": "Hidden Layer 3 Size",
           "values": [
            128,
            0,
            64,
            128,
            0,
            64,
            0,
            128,
            0,
            0,
            0,
            128,
            0,
            64,
            64,
            0,
            0,
            0,
            128,
            0,
            128,
            128,
            128,
            128,
            0,
            0,
            0,
            128,
            0,
            64,
            0,
            128,
            128,
            128,
            128,
            128,
            128,
            0,
            0,
            0,
            128,
            64,
            0,
            0,
            128,
            0,
            0,
            64
           ]
          },
          {
           "label": "Hidden Layer 4 Size",
           "values": [
            32,
            0,
            0,
            32,
            0,
            0,
            0,
            0,
            0,
            0,
            0,
            32,
            0,
            0,
            0,
            0,
            0,
            0,
            0,
            0,
            0,
            0,
            0,
            0,
            0,
            0,
            0,
            0,
            0,
            0,
            0,
            0,
            32,
            32,
            0,
            0,
            32,
            0,
            0,
            0,
            0,
            0,
            0,
            0,
            0,
            0,
            0,
            0
           ]
          },
          {
           "label": "Learning Rate",
           "values": [
            0.00001,
            0.001,
            0.001,
            0.001,
            0.00001,
            0.0001,
            0.001,
            0.00001,
            0.001,
            0.00001,
            0.001,
            0.00001,
            0.001,
            0.001,
            0.001,
            0.0001,
            0.0001,
            0.00001,
            0.001,
            0.001,
            0.00001,
            0.001,
            0.0001,
            0.0001,
            0.0001,
            0.001,
            0.001,
            0.00001,
            0.0001,
            0.0001,
            0.001,
            0.001,
            0.001,
            0.0001,
            0.00001,
            0.001,
            0.001,
            0.001,
            0.0001,
            0.00001,
            0.00001,
            0.00001,
            0.00001,
            0.00001,
            0.0001,
            0.001,
            0.0001,
            0.001
           ]
          },
          {
           "label": "Train RMSPE",
           "values": [
            1.2062781437269212,
            0.3330537253792141,
            0.3776478671250311,
            0.3453115401638248,
            5.043169181741008,
            2.261245358831894,
            0.3227548126478703,
            1.388274833363193,
            0.4128430635896564,
            1.8677749227642344,
            0.3086916126781242,
            2.1796961767195757,
            0.2995096673712003,
            0.296996201040391,
            0.3081606507372509,
            1.761726623353119,
            0.8296949726716488,
            3.656981462771648,
            0.4673671714143676,
            0.547695091202992,
            1.2073201328047762,
            0.3310299283788993,
            0.7379655504985797,
            0.7586475625164182,
            0.828152410496406,
            0.8697422214676299,
            0.3501791421782178,
            1.2514974590750432,
            2.190761858525124,
            1.4118389120647832,
            0.4297626746589321,
            0.3196883453723282,
            0.3188119633864926,
            0.9983024877218036,
            2.465411893343059,
            0.5132970745790874,
            0.4168155643157729,
            0.342654981213276,
            1.584153311203411,
            4.735351703592309,
            1.0987601718033797,
            1.6004478863164573,
            1.7956666305619848,
            4.341449432591049,
            0.9506512792998056,
            0.6191065489340947,
            0.8558914615800858,
            0.3661215138383455
           ]
          },
          {
           "label": "Valid RMSPE",
           "values": [
            1.1918358142616392,
            0.3396147653555477,
            0.378247039991721,
            0.3435834693082333,
            4.998427192867589,
            2.1287470639234103,
            0.3245584458678459,
            1.471552973388959,
            0.4169432393723214,
            1.8953625466853128,
            0.3097033061240119,
            2.201565052307147,
            0.2979501678732887,
            0.2967767031309877,
            0.305690087946576,
            1.7911789209935758,
            0.8500026164472194,
            3.719299996990217,
            0.4679668026973757,
            0.5503015813464048,
            1.146064518376222,
            0.3289058794571969,
            0.7441189450607079,
            0.768094011430212,
            0.8203299294504515,
            0.8877860088442345,
            0.3414210910317753,
            1.2780786345779331,
            2.268199455005464,
            1.469237237622042,
            0.4281177211009521,
            0.3205116952017512,
            0.3186173504287956,
            1.037521396999063,
            2.5052393135070923,
            0.5122595256796062,
            0.4157896677132964,
            0.3416147801674123,
            1.555932651361326,
            5.0447807385821415,
            1.1017847292699556,
            1.6200019873767888,
            1.8728537847030111,
            4.353629750567065,
            1.094334309183962,
            0.6170113429784765,
            0.8710393597287635,
            0.3650865250443549
           ]
          }
         ],
         "domain": {
          "x": [
           0,
           1
          ],
          "y": [
           0,
           1
          ]
         },
         "line": {
          "color": [
           1.1918358142616392,
           0.3396147653555477,
           0.378247039991721,
           0.3435834693082333,
           4.998427192867589,
           2.1287470639234103,
           0.3245584458678459,
           1.471552973388959,
           0.4169432393723214,
           1.8953625466853128,
           0.3097033061240119,
           2.201565052307147,
           0.2979501678732887,
           0.2967767031309877,
           0.305690087946576,
           1.7911789209935758,
           0.8500026164472194,
           3.719299996990217,
           0.4679668026973757,
           0.5503015813464048,
           1.146064518376222,
           0.3289058794571969,
           0.7441189450607079,
           0.768094011430212,
           0.8203299294504515,
           0.8877860088442345,
           0.3414210910317753,
           1.2780786345779331,
           2.268199455005464,
           1.469237237622042,
           0.4281177211009521,
           0.3205116952017512,
           0.3186173504287956,
           1.037521396999063,
           2.5052393135070923,
           0.5122595256796062,
           0.4157896677132964,
           0.3416147801674123,
           1.555932651361326,
           5.0447807385821415,
           1.1017847292699556,
           1.6200019873767888,
           1.8728537847030111,
           4.353629750567065,
           1.094334309183962,
           0.6170113429784765,
           0.8710393597287635,
           0.3650865250443549
          ],
          "coloraxis": "coloraxis"
         },
         "name": "",
         "type": "parcoords"
        }
       ],
       "layout": {
        "coloraxis": {
         "colorbar": {
          "title": {
           "text": "Valid RMSPE"
          }
         },
         "colorscale": [
          [
           0,
           "#440154"
          ],
          [
           0.1111111111111111,
           "#482878"
          ],
          [
           0.2222222222222222,
           "#3e4989"
          ],
          [
           0.3333333333333333,
           "#31688e"
          ],
          [
           0.4444444444444444,
           "#26828e"
          ],
          [
           0.5555555555555556,
           "#1f9e89"
          ],
          [
           0.6666666666666666,
           "#35b779"
          ],
          [
           0.7777777777777778,
           "#6ece58"
          ],
          [
           0.8888888888888888,
           "#b5de2b"
          ],
          [
           1,
           "#fde725"
          ]
         ]
        },
        "legend": {
         "tracegroupgap": 0
        },
        "template": {
         "data": {
          "bar": [
           {
            "error_x": {
             "color": "#2a3f5f"
            },
            "error_y": {
             "color": "#2a3f5f"
            },
            "marker": {
             "line": {
              "color": "#E5ECF6",
              "width": 0.5
             },
             "pattern": {
              "fillmode": "overlay",
              "size": 10,
              "solidity": 0.2
             }
            },
            "type": "bar"
           }
          ],
          "barpolar": [
           {
            "marker": {
             "line": {
              "color": "#E5ECF6",
              "width": 0.5
             },
             "pattern": {
              "fillmode": "overlay",
              "size": 10,
              "solidity": 0.2
             }
            },
            "type": "barpolar"
           }
          ],
          "carpet": [
           {
            "aaxis": {
             "endlinecolor": "#2a3f5f",
             "gridcolor": "white",
             "linecolor": "white",
             "minorgridcolor": "white",
             "startlinecolor": "#2a3f5f"
            },
            "baxis": {
             "endlinecolor": "#2a3f5f",
             "gridcolor": "white",
             "linecolor": "white",
             "minorgridcolor": "white",
             "startlinecolor": "#2a3f5f"
            },
            "type": "carpet"
           }
          ],
          "choropleth": [
           {
            "colorbar": {
             "outlinewidth": 0,
             "ticks": ""
            },
            "type": "choropleth"
           }
          ],
          "contour": [
           {
            "colorbar": {
             "outlinewidth": 0,
             "ticks": ""
            },
            "colorscale": [
             [
              0,
              "#0d0887"
             ],
             [
              0.1111111111111111,
              "#46039f"
             ],
             [
              0.2222222222222222,
              "#7201a8"
             ],
             [
              0.3333333333333333,
              "#9c179e"
             ],
             [
              0.4444444444444444,
              "#bd3786"
             ],
             [
              0.5555555555555556,
              "#d8576b"
             ],
             [
              0.6666666666666666,
              "#ed7953"
             ],
             [
              0.7777777777777778,
              "#fb9f3a"
             ],
             [
              0.8888888888888888,
              "#fdca26"
             ],
             [
              1,
              "#f0f921"
             ]
            ],
            "type": "contour"
           }
          ],
          "contourcarpet": [
           {
            "colorbar": {
             "outlinewidth": 0,
             "ticks": ""
            },
            "type": "contourcarpet"
           }
          ],
          "heatmap": [
           {
            "colorbar": {
             "outlinewidth": 0,
             "ticks": ""
            },
            "colorscale": [
             [
              0,
              "#0d0887"
             ],
             [
              0.1111111111111111,
              "#46039f"
             ],
             [
              0.2222222222222222,
              "#7201a8"
             ],
             [
              0.3333333333333333,
              "#9c179e"
             ],
             [
              0.4444444444444444,
              "#bd3786"
             ],
             [
              0.5555555555555556,
              "#d8576b"
             ],
             [
              0.6666666666666666,
              "#ed7953"
             ],
             [
              0.7777777777777778,
              "#fb9f3a"
             ],
             [
              0.8888888888888888,
              "#fdca26"
             ],
             [
              1,
              "#f0f921"
             ]
            ],
            "type": "heatmap"
           }
          ],
          "heatmapgl": [
           {
            "colorbar": {
             "outlinewidth": 0,
             "ticks": ""
            },
            "colorscale": [
             [
              0,
              "#0d0887"
             ],
             [
              0.1111111111111111,
              "#46039f"
             ],
             [
              0.2222222222222222,
              "#7201a8"
             ],
             [
              0.3333333333333333,
              "#9c179e"
             ],
             [
              0.4444444444444444,
              "#bd3786"
             ],
             [
              0.5555555555555556,
              "#d8576b"
             ],
             [
              0.6666666666666666,
              "#ed7953"
             ],
             [
              0.7777777777777778,
              "#fb9f3a"
             ],
             [
              0.8888888888888888,
              "#fdca26"
             ],
             [
              1,
              "#f0f921"
             ]
            ],
            "type": "heatmapgl"
           }
          ],
          "histogram": [
           {
            "marker": {
             "pattern": {
              "fillmode": "overlay",
              "size": 10,
              "solidity": 0.2
             }
            },
            "type": "histogram"
           }
          ],
          "histogram2d": [
           {
            "colorbar": {
             "outlinewidth": 0,
             "ticks": ""
            },
            "colorscale": [
             [
              0,
              "#0d0887"
             ],
             [
              0.1111111111111111,
              "#46039f"
             ],
             [
              0.2222222222222222,
              "#7201a8"
             ],
             [
              0.3333333333333333,
              "#9c179e"
             ],
             [
              0.4444444444444444,
              "#bd3786"
             ],
             [
              0.5555555555555556,
              "#d8576b"
             ],
             [
              0.6666666666666666,
              "#ed7953"
             ],
             [
              0.7777777777777778,
              "#fb9f3a"
             ],
             [
              0.8888888888888888,
              "#fdca26"
             ],
             [
              1,
              "#f0f921"
             ]
            ],
            "type": "histogram2d"
           }
          ],
          "histogram2dcontour": [
           {
            "colorbar": {
             "outlinewidth": 0,
             "ticks": ""
            },
            "colorscale": [
             [
              0,
              "#0d0887"
             ],
             [
              0.1111111111111111,
              "#46039f"
             ],
             [
              0.2222222222222222,
              "#7201a8"
             ],
             [
              0.3333333333333333,
              "#9c179e"
             ],
             [
              0.4444444444444444,
              "#bd3786"
             ],
             [
              0.5555555555555556,
              "#d8576b"
             ],
             [
              0.6666666666666666,
              "#ed7953"
             ],
             [
              0.7777777777777778,
              "#fb9f3a"
             ],
             [
              0.8888888888888888,
              "#fdca26"
             ],
             [
              1,
              "#f0f921"
             ]
            ],
            "type": "histogram2dcontour"
           }
          ],
          "mesh3d": [
           {
            "colorbar": {
             "outlinewidth": 0,
             "ticks": ""
            },
            "type": "mesh3d"
           }
          ],
          "parcoords": [
           {
            "line": {
             "colorbar": {
              "outlinewidth": 0,
              "ticks": ""
             }
            },
            "type": "parcoords"
           }
          ],
          "pie": [
           {
            "automargin": true,
            "type": "pie"
           }
          ],
          "scatter": [
           {
            "fillpattern": {
             "fillmode": "overlay",
             "size": 10,
             "solidity": 0.2
            },
            "type": "scatter"
           }
          ],
          "scatter3d": [
           {
            "line": {
             "colorbar": {
              "outlinewidth": 0,
              "ticks": ""
             }
            },
            "marker": {
             "colorbar": {
              "outlinewidth": 0,
              "ticks": ""
             }
            },
            "type": "scatter3d"
           }
          ],
          "scattercarpet": [
           {
            "marker": {
             "colorbar": {
              "outlinewidth": 0,
              "ticks": ""
             }
            },
            "type": "scattercarpet"
           }
          ],
          "scattergeo": [
           {
            "marker": {
             "colorbar": {
              "outlinewidth": 0,
              "ticks": ""
             }
            },
            "type": "scattergeo"
           }
          ],
          "scattergl": [
           {
            "marker": {
             "colorbar": {
              "outlinewidth": 0,
              "ticks": ""
             }
            },
            "type": "scattergl"
           }
          ],
          "scattermapbox": [
           {
            "marker": {
             "colorbar": {
              "outlinewidth": 0,
              "ticks": ""
             }
            },
            "type": "scattermapbox"
           }
          ],
          "scatterpolar": [
           {
            "marker": {
             "colorbar": {
              "outlinewidth": 0,
              "ticks": ""
             }
            },
            "type": "scatterpolar"
           }
          ],
          "scatterpolargl": [
           {
            "marker": {
             "colorbar": {
              "outlinewidth": 0,
              "ticks": ""
             }
            },
            "type": "scatterpolargl"
           }
          ],
          "scatterternary": [
           {
            "marker": {
             "colorbar": {
              "outlinewidth": 0,
              "ticks": ""
             }
            },
            "type": "scatterternary"
           }
          ],
          "surface": [
           {
            "colorbar": {
             "outlinewidth": 0,
             "ticks": ""
            },
            "colorscale": [
             [
              0,
              "#0d0887"
             ],
             [
              0.1111111111111111,
              "#46039f"
             ],
             [
              0.2222222222222222,
              "#7201a8"
             ],
             [
              0.3333333333333333,
              "#9c179e"
             ],
             [
              0.4444444444444444,
              "#bd3786"
             ],
             [
              0.5555555555555556,
              "#d8576b"
             ],
             [
              0.6666666666666666,
              "#ed7953"
             ],
             [
              0.7777777777777778,
              "#fb9f3a"
             ],
             [
              0.8888888888888888,
              "#fdca26"
             ],
             [
              1,
              "#f0f921"
             ]
            ],
            "type": "surface"
           }
          ],
          "table": [
           {
            "cells": {
             "fill": {
              "color": "#EBF0F8"
             },
             "line": {
              "color": "white"
             }
            },
            "header": {
             "fill": {
              "color": "#C8D4E3"
             },
             "line": {
              "color": "white"
             }
            },
            "type": "table"
           }
          ]
         },
         "layout": {
          "annotationdefaults": {
           "arrowcolor": "#2a3f5f",
           "arrowhead": 0,
           "arrowwidth": 1
          },
          "autotypenumbers": "strict",
          "coloraxis": {
           "colorbar": {
            "outlinewidth": 0,
            "ticks": ""
           }
          },
          "colorscale": {
           "diverging": [
            [
             0,
             "#8e0152"
            ],
            [
             0.1,
             "#c51b7d"
            ],
            [
             0.2,
             "#de77ae"
            ],
            [
             0.3,
             "#f1b6da"
            ],
            [
             0.4,
             "#fde0ef"
            ],
            [
             0.5,
             "#f7f7f7"
            ],
            [
             0.6,
             "#e6f5d0"
            ],
            [
             0.7,
             "#b8e186"
            ],
            [
             0.8,
             "#7fbc41"
            ],
            [
             0.9,
             "#4d9221"
            ],
            [
             1,
             "#276419"
            ]
           ],
           "sequential": [
            [
             0,
             "#0d0887"
            ],
            [
             0.1111111111111111,
             "#46039f"
            ],
            [
             0.2222222222222222,
             "#7201a8"
            ],
            [
             0.3333333333333333,
             "#9c179e"
            ],
            [
             0.4444444444444444,
             "#bd3786"
            ],
            [
             0.5555555555555556,
             "#d8576b"
            ],
            [
             0.6666666666666666,
             "#ed7953"
            ],
            [
             0.7777777777777778,
             "#fb9f3a"
            ],
            [
             0.8888888888888888,
             "#fdca26"
            ],
            [
             1,
             "#f0f921"
            ]
           ],
           "sequentialminus": [
            [
             0,
             "#0d0887"
            ],
            [
             0.1111111111111111,
             "#46039f"
            ],
            [
             0.2222222222222222,
             "#7201a8"
            ],
            [
             0.3333333333333333,
             "#9c179e"
            ],
            [
             0.4444444444444444,
             "#bd3786"
            ],
            [
             0.5555555555555556,
             "#d8576b"
            ],
            [
             0.6666666666666666,
             "#ed7953"
            ],
            [
             0.7777777777777778,
             "#fb9f3a"
            ],
            [
             0.8888888888888888,
             "#fdca26"
            ],
            [
             1,
             "#f0f921"
            ]
           ]
          },
          "colorway": [
           "#636efa",
           "#EF553B",
           "#00cc96",
           "#ab63fa",
           "#FFA15A",
           "#19d3f3",
           "#FF6692",
           "#B6E880",
           "#FF97FF",
           "#FECB52"
          ],
          "font": {
           "color": "#2a3f5f"
          },
          "geo": {
           "bgcolor": "white",
           "lakecolor": "white",
           "landcolor": "#E5ECF6",
           "showlakes": true,
           "showland": true,
           "subunitcolor": "white"
          },
          "hoverlabel": {
           "align": "left"
          },
          "hovermode": "closest",
          "mapbox": {
           "style": "light"
          },
          "paper_bgcolor": "white",
          "plot_bgcolor": "#E5ECF6",
          "polar": {
           "angularaxis": {
            "gridcolor": "white",
            "linecolor": "white",
            "ticks": ""
           },
           "bgcolor": "#E5ECF6",
           "radialaxis": {
            "gridcolor": "white",
            "linecolor": "white",
            "ticks": ""
           }
          },
          "scene": {
           "xaxis": {
            "backgroundcolor": "#E5ECF6",
            "gridcolor": "white",
            "gridwidth": 2,
            "linecolor": "white",
            "showbackground": true,
            "ticks": "",
            "zerolinecolor": "white"
           },
           "yaxis": {
            "backgroundcolor": "#E5ECF6",
            "gridcolor": "white",
            "gridwidth": 2,
            "linecolor": "white",
            "showbackground": true,
            "ticks": "",
            "zerolinecolor": "white"
           },
           "zaxis": {
            "backgroundcolor": "#E5ECF6",
            "gridcolor": "white",
            "gridwidth": 2,
            "linecolor": "white",
            "showbackground": true,
            "ticks": "",
            "zerolinecolor": "white"
           }
          },
          "shapedefaults": {
           "line": {
            "color": "#2a3f5f"
           }
          },
          "ternary": {
           "aaxis": {
            "gridcolor": "white",
            "linecolor": "white",
            "ticks": ""
           },
           "baxis": {
            "gridcolor": "white",
            "linecolor": "white",
            "ticks": ""
           },
           "bgcolor": "#E5ECF6",
           "caxis": {
            "gridcolor": "white",
            "linecolor": "white",
            "ticks": ""
           }
          },
          "title": {
           "x": 0.05
          },
          "xaxis": {
           "automargin": true,
           "gridcolor": "white",
           "linecolor": "white",
           "ticks": "",
           "title": {
            "standoff": 15
           },
           "zerolinecolor": "white",
           "zerolinewidth": 2
          },
          "yaxis": {
           "automargin": true,
           "gridcolor": "white",
           "linecolor": "white",
           "ticks": "",
           "title": {
            "standoff": 15
           },
           "zerolinecolor": "white",
           "zerolinewidth": 2
          }
         }
        },
        "title": {
         "text": "Parallel Coordinates Plot of Hyperparameters vs Validation RMSPE"
        }
       }
      }
     },
     "metadata": {},
     "output_type": "display_data"
    }
   ],
   "source": [
    "import plotly.express as px\n",
    "\n",
    "fig = px.parallel_coordinates(\n",
    "    df_mlp_16,\n",
    "    dimensions=[\"activation\", \"hidden_layer_1\", \"hidden_layer_2\", \"hidden_layer_3\", \"hidden_layer_4\", \"learning_rate_init\", \"train_rmspe_mean\", \"valid_rmspe_mean\"],\n",
    "    color=\"valid_rmspe_mean\",\n",
    "    color_continuous_scale=px.colors.sequential.Viridis,\n",
    "    labels={\n",
    "        \"activation\": \"Activation Function\",\n",
    "        \"hidden_layer_1\": \"Hidden Layer 1 Size\",\n",
    "        \"hidden_layer_2\": \"Hidden Layer 2 Size\",\n",
    "        \"hidden_layer_3\": \"Hidden Layer 3 Size\",\n",
    "        \"hidden_layer_4\": \"Hidden Layer 4 Size\",\n",
    "        \"learning_rate_init\": \"Learning Rate\",\n",
    "        \"train_rmspe_mean\": \"Train RMSPE\",\n",
    "        \"valid_rmspe_mean\": \"Valid RMSPE\"\n",
    "    },\n",
    "    title=\"Parallel Coordinates Plot of Hyperparameters vs Validation RMSPE\"\n",
    ")\n",
    "\n",
    "# Show the plot\n",
    "fig.show()"
   ]
  },
  {
   "cell_type": "code",
   "execution_count": null,
   "metadata": {},
   "outputs": [
    {
     "ename": "ImportError",
     "evalue": "attempted relative import with no known parent package",
     "output_type": "error",
     "traceback": [
      "\u001b[1;31m---------------------------------------------------------------------------\u001b[0m",
      "\u001b[1;31mImportError\u001b[0m                               Traceback (most recent call last)",
      "Cell \u001b[1;32mIn[26], line 1\u001b[0m\n\u001b[1;32m----> 1\u001b[0m \u001b[38;5;28;01mfrom\u001b[39;00m \u001b[38;5;21;01m.\u001b[39;00m\u001b[38;5;21;01m.\u001b[39;00m\u001b[38;5;21;01mmodels\u001b[39;00m \u001b[38;5;28;01mimport\u001b[39;00m LGBMModel\n\u001b[0;32m      3\u001b[0m lgbm_fitted \u001b[38;5;241m=\u001b[39m LGBMModel\u001b[38;5;241m.\u001b[39mload(\u001b[38;5;124m\"\u001b[39m\u001b[38;5;124mlgbm_32\u001b[39m\u001b[38;5;124m\"\u001b[39m)\n\u001b[0;32m      4\u001b[0m lgbm_fitted\n",
      "\u001b[1;31mImportError\u001b[0m: attempted relative import with no known parent package"
     ]
    }
   ],
   "source": [
    "\n"
   ]
  },
  {
   "cell_type": "code",
   "execution_count": null,
   "metadata": {},
   "outputs": [],
   "source": []
  }
 ],
 "metadata": {
  "kernelspec": {
   "display_name": "ml",
   "language": "python",
   "name": "python3"
  },
  "language_info": {
   "codemirror_mode": {
    "name": "ipython",
    "version": 3
   },
   "file_extension": ".py",
   "mimetype": "text/x-python",
   "name": "python",
   "nbconvert_exporter": "python",
   "pygments_lexer": "ipython3",
   "version": "3.12.3"
  }
 },
 "nbformat": 4,
 "nbformat_minor": 2
}
